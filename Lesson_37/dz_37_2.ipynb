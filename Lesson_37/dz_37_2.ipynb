{
 "cells": [
  {
   "cell_type": "markdown",
   "id": "07b83db6",
   "metadata": {},
   "source": [
    "## Завдання 2.\n",
    "Використовуючи датасет з файлу **communities.csv**, виконайте нормалізацію даних. Визначте найкращий метод нормалізації для даного набору даних. \n"
   ]
  },
  {
   "cell_type": "code",
   "execution_count": 118,
   "id": "bc467a90",
   "metadata": {},
   "outputs": [],
   "source": [
    "import matplotlib.pyplot as plt\n",
    "import numpy as np\n",
    "import pandas as pd\n",
    "import seaborn as sb\n",
    "\n",
    "import sklearn\n",
    "from sklearn.linear_model import Lasso\n",
    "from sklearn.linear_model import LinearRegression\n",
    "from sklearn.model_selection import train_test_split\n",
    "from numpy import genfromtxt"
   ]
  },
  {
   "cell_type": "markdown",
   "id": "d21c33a5",
   "metadata": {},
   "source": [
    "##### Імпорт та підготовка даних"
   ]
  },
  {
   "cell_type": "code",
   "execution_count": 119,
   "id": "17709c3d",
   "metadata": {
    "scrolled": false
   },
   "outputs": [
    {
     "data": {
      "text/html": [
       "<div>\n",
       "<style scoped>\n",
       "    .dataframe tbody tr th:only-of-type {\n",
       "        vertical-align: middle;\n",
       "    }\n",
       "\n",
       "    .dataframe tbody tr th {\n",
       "        vertical-align: top;\n",
       "    }\n",
       "\n",
       "    .dataframe thead th {\n",
       "        text-align: right;\n",
       "    }\n",
       "</style>\n",
       "<table border=\"1\" class=\"dataframe\">\n",
       "  <thead>\n",
       "    <tr style=\"text-align: right;\">\n",
       "      <th></th>\n",
       "      <th>0</th>\n",
       "      <th>4</th>\n",
       "      <th>5</th>\n",
       "      <th>6</th>\n",
       "      <th>7</th>\n",
       "      <th>8</th>\n",
       "      <th>9</th>\n",
       "      <th>10</th>\n",
       "      <th>11</th>\n",
       "      <th>12</th>\n",
       "      <th>...</th>\n",
       "      <th>95</th>\n",
       "      <th>96</th>\n",
       "      <th>97</th>\n",
       "      <th>98</th>\n",
       "      <th>99</th>\n",
       "      <th>100</th>\n",
       "      <th>118</th>\n",
       "      <th>119</th>\n",
       "      <th>120</th>\n",
       "      <th>125</th>\n",
       "    </tr>\n",
       "  </thead>\n",
       "  <tbody>\n",
       "    <tr>\n",
       "      <th>0</th>\n",
       "      <td>8</td>\n",
       "      <td>1</td>\n",
       "      <td>0.19</td>\n",
       "      <td>0.33</td>\n",
       "      <td>0.02</td>\n",
       "      <td>0.90</td>\n",
       "      <td>0.12</td>\n",
       "      <td>0.17</td>\n",
       "      <td>0.34</td>\n",
       "      <td>0.47</td>\n",
       "      <td>...</td>\n",
       "      <td>0.0</td>\n",
       "      <td>0.12</td>\n",
       "      <td>0.42</td>\n",
       "      <td>0.50</td>\n",
       "      <td>0.51</td>\n",
       "      <td>0.64</td>\n",
       "      <td>0.12</td>\n",
       "      <td>0.26</td>\n",
       "      <td>0.20</td>\n",
       "      <td>0.32</td>\n",
       "    </tr>\n",
       "    <tr>\n",
       "      <th>1</th>\n",
       "      <td>53</td>\n",
       "      <td>1</td>\n",
       "      <td>0.00</td>\n",
       "      <td>0.16</td>\n",
       "      <td>0.12</td>\n",
       "      <td>0.74</td>\n",
       "      <td>0.45</td>\n",
       "      <td>0.07</td>\n",
       "      <td>0.26</td>\n",
       "      <td>0.59</td>\n",
       "      <td>...</td>\n",
       "      <td>0.0</td>\n",
       "      <td>0.21</td>\n",
       "      <td>0.50</td>\n",
       "      <td>0.34</td>\n",
       "      <td>0.60</td>\n",
       "      <td>0.52</td>\n",
       "      <td>0.02</td>\n",
       "      <td>0.12</td>\n",
       "      <td>0.45</td>\n",
       "      <td>0.00</td>\n",
       "    </tr>\n",
       "    <tr>\n",
       "      <th>2</th>\n",
       "      <td>24</td>\n",
       "      <td>1</td>\n",
       "      <td>0.00</td>\n",
       "      <td>0.42</td>\n",
       "      <td>0.49</td>\n",
       "      <td>0.56</td>\n",
       "      <td>0.17</td>\n",
       "      <td>0.04</td>\n",
       "      <td>0.39</td>\n",
       "      <td>0.47</td>\n",
       "      <td>...</td>\n",
       "      <td>0.0</td>\n",
       "      <td>0.14</td>\n",
       "      <td>0.49</td>\n",
       "      <td>0.54</td>\n",
       "      <td>0.67</td>\n",
       "      <td>0.56</td>\n",
       "      <td>0.01</td>\n",
       "      <td>0.21</td>\n",
       "      <td>0.02</td>\n",
       "      <td>0.00</td>\n",
       "    </tr>\n",
       "    <tr>\n",
       "      <th>3</th>\n",
       "      <td>34</td>\n",
       "      <td>1</td>\n",
       "      <td>0.04</td>\n",
       "      <td>0.77</td>\n",
       "      <td>1.00</td>\n",
       "      <td>0.08</td>\n",
       "      <td>0.12</td>\n",
       "      <td>0.10</td>\n",
       "      <td>0.51</td>\n",
       "      <td>0.50</td>\n",
       "      <td>...</td>\n",
       "      <td>0.0</td>\n",
       "      <td>0.19</td>\n",
       "      <td>0.30</td>\n",
       "      <td>0.73</td>\n",
       "      <td>0.64</td>\n",
       "      <td>0.65</td>\n",
       "      <td>0.02</td>\n",
       "      <td>0.39</td>\n",
       "      <td>0.28</td>\n",
       "      <td>0.00</td>\n",
       "    </tr>\n",
       "    <tr>\n",
       "      <th>4</th>\n",
       "      <td>42</td>\n",
       "      <td>1</td>\n",
       "      <td>0.01</td>\n",
       "      <td>0.55</td>\n",
       "      <td>0.02</td>\n",
       "      <td>0.95</td>\n",
       "      <td>0.09</td>\n",
       "      <td>0.05</td>\n",
       "      <td>0.38</td>\n",
       "      <td>0.38</td>\n",
       "      <td>...</td>\n",
       "      <td>0.0</td>\n",
       "      <td>0.11</td>\n",
       "      <td>0.72</td>\n",
       "      <td>0.64</td>\n",
       "      <td>0.61</td>\n",
       "      <td>0.53</td>\n",
       "      <td>0.04</td>\n",
       "      <td>0.09</td>\n",
       "      <td>0.02</td>\n",
       "      <td>0.00</td>\n",
       "    </tr>\n",
       "  </tbody>\n",
       "</table>\n",
       "<p>5 rows × 101 columns</p>\n",
       "</div>"
      ],
      "text/plain": [
       "   0    4     5     6     7     8     9     10    11    12   ...  95    96   \\\n",
       "0    8    1  0.19  0.33  0.02  0.90  0.12  0.17  0.34  0.47  ...  0.0  0.12   \n",
       "1   53    1  0.00  0.16  0.12  0.74  0.45  0.07  0.26  0.59  ...  0.0  0.21   \n",
       "2   24    1  0.00  0.42  0.49  0.56  0.17  0.04  0.39  0.47  ...  0.0  0.14   \n",
       "3   34    1  0.04  0.77  1.00  0.08  0.12  0.10  0.51  0.50  ...  0.0  0.19   \n",
       "4   42    1  0.01  0.55  0.02  0.95  0.09  0.05  0.38  0.38  ...  0.0  0.11   \n",
       "\n",
       "    97    98    99    100   118   119   120   125  \n",
       "0  0.42  0.50  0.51  0.64  0.12  0.26  0.20  0.32  \n",
       "1  0.50  0.34  0.60  0.52  0.02  0.12  0.45  0.00  \n",
       "2  0.49  0.54  0.67  0.56  0.01  0.21  0.02  0.00  \n",
       "3  0.30  0.73  0.64  0.65  0.02  0.39  0.28  0.00  \n",
       "4  0.72  0.64  0.61  0.53  0.04  0.09  0.02  0.00  \n",
       "\n",
       "[5 rows x 101 columns]"
      ]
     },
     "execution_count": 119,
     "metadata": {},
     "output_type": "execute_result"
    }
   ],
   "source": [
    "data = pd.read_csv('communities.csv', header=None)\n",
    "\n",
    "numeric_cols = [cname for cname in data.columns if data[cname].dtype in ['int64', 'float64']]\n",
    "X = data[numeric_cols].copy()\n",
    "y = data[127]\n",
    "X.drop(labels=[127], axis =1, inplace=True)\n",
    "X.head()"
   ]
  },
  {
   "cell_type": "markdown",
   "id": "0e6fec93",
   "metadata": {},
   "source": [
    "##### Візуалізація цілосності даних"
   ]
  },
  {
   "cell_type": "code",
   "execution_count": 120,
   "id": "b7f5f49c",
   "metadata": {},
   "outputs": [
    {
     "data": {
      "text/plain": [
       "<AxesSubplot:>"
      ]
     },
     "execution_count": 120,
     "metadata": {},
     "output_type": "execute_result"
    },
    {
     "data": {
      "image/png": "[encoded data removed]",
      "text/plain": [
       "<Figure size 2000x600 with 1 Axes>"
      ]
     },
     "metadata": {},
     "output_type": "display_data"
    }
   ],
   "source": [
    "plt.figure(figsize=(20, 6))\n",
    "sb.heatmap(data.isnull(), yticklabels=False, cbar=False, cmap='crest')"
   ]
  },
  {
   "cell_type": "markdown",
   "id": "4cf28833",
   "metadata": {},
   "source": [
    "##### Розбивка даних на тренувальний та тестовий набори"
   ]
  },
  {
   "cell_type": "code",
   "execution_count": 121,
   "id": "ba5c971c",
   "metadata": {},
   "outputs": [
    {
     "name": "stdout",
     "output_type": "stream",
     "text": [
      "Кількість елементів у категоріях для навчального датасету [1360   35]\n",
      "Кількість елементів у категоріях для тестового датасету [590   9]\n"
     ]
    }
   ],
   "source": [
    "X_train, X_test, y_train, y_test = train_test_split(X, y, test_size = 0.3, random_state=42)\n",
    "print(f\"Кількість елементів у категоріях для навчального датасету {np.bincount(y_train)}\")\n",
    "print(f\"Кількість елементів у категоріях для тестового датасету {np.bincount(y_test)}\")"
   ]
  },
  {
   "cell_type": "markdown",
   "id": "c48e7c68",
   "metadata": {},
   "source": [
    "##### Лінійна регресійнна модель"
   ]
  },
  {
   "cell_type": "code",
   "execution_count": 122,
   "id": "66121898",
   "metadata": {},
   "outputs": [
    {
     "data": {
      "text/plain": [
       "LinearRegression()"
      ]
     },
     "execution_count": 122,
     "metadata": {},
     "output_type": "execute_result"
    }
   ],
   "source": [
    "lr = LinearRegression()\n",
    "lr.fit(X_train, y_train)"
   ]
  },
  {
   "cell_type": "code",
   "execution_count": 123,
   "id": "46d524ac",
   "metadata": {},
   "outputs": [],
   "source": [
    "y_pred = lr.predict(X_test)"
   ]
  },
  {
   "cell_type": "markdown",
   "id": "50963560",
   "metadata": {},
   "source": [
    "##### Показники якості моделі"
   ]
  },
  {
   "cell_type": "code",
   "execution_count": 124,
   "id": "f3bba50a",
   "metadata": {},
   "outputs": [
    {
     "name": "stdout",
     "output_type": "stream",
     "text": [
      "Mean absolute error: 0.10\n",
      "Root mean squred error: 0.13\n"
     ]
    }
   ],
   "source": [
    "rmse = np.sqrt(np.mean(np.square(y_test-y_pred)))\n",
    "mae = np.mean(abs(y_test-y_pred))\n",
    "print(f'Mean absolute error: {mae:.2f}')\n",
    "print(f'Root mean squred error: {rmse:.2f}')"
   ]
  },
  {
   "cell_type": "code",
   "execution_count": 125,
   "id": "aa2339ba",
   "metadata": {},
   "outputs": [
    {
     "name": "stdout",
     "output_type": "stream",
     "text": [
      "Score data set 0.6856\n",
      "Score for train set 0.7046\n",
      "Score for test set 0.6305\n"
     ]
    }
   ],
   "source": [
    "print(f\"Score data set {lr.score(X, y):.4f}\")\n",
    "print(f\"Score for train set {lr.score(X_train, y_train):.4f}\")\n",
    "print(f\"Score for test set {lr.score(X_test, y_test):.4f}\")"
   ]
  },
  {
   "cell_type": "markdown",
   "id": "ab383e36",
   "metadata": {},
   "source": [
    "##### L1 регулярізація"
   ]
  },
  {
   "cell_type": "code",
   "execution_count": 132,
   "id": "2a507cbf",
   "metadata": {},
   "outputs": [
    {
     "name": "stdout",
     "output_type": "stream",
     "text": [
      "Score data set 0.6830\n",
      "Score for train set 0.7013\n",
      "Score for test set 0.6298\n"
     ]
    }
   ],
   "source": [
    "lasso = Lasso(alpha=0.00005).fit(X_train, y_train)\n",
    "print(f\"Score data set {lasso.score(X, y):.4f}\")\n",
    "print(f\"Score for train set {lasso.score(X_train, y_train):.4f}\")\n",
    "print(f\"Score for test set {lasso.score(X_test, y_test):.4f}\")"
   ]
  },
  {
   "cell_type": "markdown",
   "id": "fb3fda26",
   "metadata": {},
   "source": [
    "##### L2 регулярізація"
   ]
  },
  {
   "cell_type": "code",
   "execution_count": 130,
   "id": "3b179b6c",
   "metadata": {},
   "outputs": [
    {
     "name": "stdout",
     "output_type": "stream",
     "text": [
      "Score data set 0.6803\n",
      "Score for train set 0.6962\n",
      "Score for test set 0.6337\n"
     ]
    }
   ],
   "source": [
    "from sklearn.linear_model import Ridge\n",
    "ridge = Ridge(alpha=2).fit(X_train, y_train)\n",
    "print(f\"Score data set {ridge.score(X, y):.4f}\")\n",
    "print(f\"Score for train set {ridge.score(X_train, y_train):.4f}\")\n",
    "print(f\"Score for test set {ridge.score(X_test, y_test):.4f}\")"
   ]
  },
  {
   "cell_type": "markdown",
   "id": "d19d4275",
   "metadata": {},
   "source": [
    "##### L1 + L2 регуляризація"
   ]
  },
  {
   "cell_type": "code",
   "execution_count": 128,
   "id": "60932a95",
   "metadata": {},
   "outputs": [
    {
     "name": "stdout",
     "output_type": "stream",
     "text": [
      "Score data set 0.6797\n",
      "Score for train set 0.6970\n",
      "Score for test set 0.6292\n"
     ]
    }
   ],
   "source": [
    "from sklearn.linear_model import ElasticNet\n",
    "eklastic = ElasticNet(alpha=0.0001, l1_ratio=0.95).fit(X_train, y_train)\n",
    "print(f\"Score data set {eklastic.score(X, y):.4f}\")\n",
    "print(f\"Score for train set {eklastic.score(X_train, y_train):.4f}\")\n",
    "print(f\"Score for test set {eklastic.score(X_test, y_test):.4f}\")"
   ]
  }
 ],
 "metadata": {
  "kernelspec": {
   "display_name": "Python 3 (ipykernel)",
   "language": "python",
   "name": "python3"
  },
  "language_info": {
   "codemirror_mode": {
    "name": "ipython",
    "version": 3
   },
   "file_extension": ".py",
   "mimetype": "text/x-python",
   "name": "python",
   "nbconvert_exporter": "python",
   "pygments_lexer": "ipython3",
   "version": "3.9.13"
  }
 },
 "nbformat": 4,
 "nbformat_minor": 5
}
