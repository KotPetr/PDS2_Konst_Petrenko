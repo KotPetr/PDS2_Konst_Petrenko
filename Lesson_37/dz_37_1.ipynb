{
 "cells": [
  {
   "cell_type": "markdown",
   "id": "4f98d27a",
   "metadata": {},
   "source": [
    "### Завдання 1\n",
    "Використотвуючи датасет з файлу Position_Salaries.csv побудуйте модель поліноміальної регресії."
   ]
  },
  {
   "cell_type": "code",
   "execution_count": 145,
   "id": "794eafb6",
   "metadata": {},
   "outputs": [],
   "source": [
    "import matplotlib.pyplot as plt\n",
    "import numpy as np\n",
    "import pandas as pd\n",
    "import sklearn\n",
    "import seaborn as sb\n",
    "\n",
    "from sklearn.linear_model import LinearRegression\n",
    "from sklearn.preprocessing import scale\n",
    "from sklearn.metrics import mean_absolute_error, mean_squared_error\n",
    "from sklearn.model_selection import train_test_split\n",
    "from sklearn.model_selection import GridSearchCV\n"
   ]
  },
  {
   "cell_type": "code",
   "execution_count": 146,
   "id": "0fb58112",
   "metadata": {},
   "outputs": [
    {
     "data": {
      "text/html": [
       "<div>\n",
       "<style scoped>\n",
       "    .dataframe tbody tr th:only-of-type {\n",
       "        vertical-align: middle;\n",
       "    }\n",
       "\n",
       "    .dataframe tbody tr th {\n",
       "        vertical-align: top;\n",
       "    }\n",
       "\n",
       "    .dataframe thead th {\n",
       "        text-align: right;\n",
       "    }\n",
       "</style>\n",
       "<table border=\"1\" class=\"dataframe\">\n",
       "  <thead>\n",
       "    <tr style=\"text-align: right;\">\n",
       "      <th></th>\n",
       "      <th>Position</th>\n",
       "      <th>Level</th>\n",
       "      <th>Salary</th>\n",
       "    </tr>\n",
       "  </thead>\n",
       "  <tbody>\n",
       "    <tr>\n",
       "      <th>0</th>\n",
       "      <td>Business Analyst</td>\n",
       "      <td>1</td>\n",
       "      <td>45000</td>\n",
       "    </tr>\n",
       "    <tr>\n",
       "      <th>1</th>\n",
       "      <td>Junior Consultant</td>\n",
       "      <td>2</td>\n",
       "      <td>50000</td>\n",
       "    </tr>\n",
       "    <tr>\n",
       "      <th>2</th>\n",
       "      <td>Senior Consultant</td>\n",
       "      <td>3</td>\n",
       "      <td>60000</td>\n",
       "    </tr>\n",
       "    <tr>\n",
       "      <th>3</th>\n",
       "      <td>Manager</td>\n",
       "      <td>4</td>\n",
       "      <td>80000</td>\n",
       "    </tr>\n",
       "    <tr>\n",
       "      <th>4</th>\n",
       "      <td>Country Manager</td>\n",
       "      <td>5</td>\n",
       "      <td>110000</td>\n",
       "    </tr>\n",
       "    <tr>\n",
       "      <th>5</th>\n",
       "      <td>Region Manager</td>\n",
       "      <td>6</td>\n",
       "      <td>150000</td>\n",
       "    </tr>\n",
       "    <tr>\n",
       "      <th>6</th>\n",
       "      <td>Partner</td>\n",
       "      <td>7</td>\n",
       "      <td>200000</td>\n",
       "    </tr>\n",
       "    <tr>\n",
       "      <th>7</th>\n",
       "      <td>Senior Partner</td>\n",
       "      <td>8</td>\n",
       "      <td>300000</td>\n",
       "    </tr>\n",
       "    <tr>\n",
       "      <th>8</th>\n",
       "      <td>C-level</td>\n",
       "      <td>9</td>\n",
       "      <td>500000</td>\n",
       "    </tr>\n",
       "    <tr>\n",
       "      <th>9</th>\n",
       "      <td>CEO</td>\n",
       "      <td>10</td>\n",
       "      <td>1000000</td>\n",
       "    </tr>\n",
       "  </tbody>\n",
       "</table>\n",
       "</div>"
      ],
      "text/plain": [
       "            Position  Level   Salary\n",
       "0   Business Analyst      1    45000\n",
       "1  Junior Consultant      2    50000\n",
       "2  Senior Consultant      3    60000\n",
       "3            Manager      4    80000\n",
       "4    Country Manager      5   110000\n",
       "5     Region Manager      6   150000\n",
       "6            Partner      7   200000\n",
       "7     Senior Partner      8   300000\n",
       "8            C-level      9   500000\n",
       "9                CEO     10  1000000"
      ]
     },
     "execution_count": 146,
     "metadata": {},
     "output_type": "execute_result"
    }
   ],
   "source": [
    "ps = pd.read_csv('Position_Salaries.csv')\n",
    "ps"
   ]
  },
  {
   "cell_type": "code",
   "execution_count": 147,
   "id": "c3b9d165",
   "metadata": {},
   "outputs": [],
   "source": [
    "X = ps.Level\n",
    "y = ps.Salary"
   ]
  },
  {
   "cell_type": "markdown",
   "id": "aba1478e",
   "metadata": {},
   "source": [
    "#### Linear regression"
   ]
  },
  {
   "cell_type": "code",
   "execution_count": 148,
   "id": "6601da0a",
   "metadata": {},
   "outputs": [],
   "source": [
    "X2d = X.to_numpy().reshape(-1, 1)\n",
    "lin_model = LinearRegression()\n",
    "lin_model.fit(X2d, y)\n",
    "y_pred = lin_model.predict(X2d)"
   ]
  },
  {
   "cell_type": "code",
   "execution_count": 149,
   "id": "0266747e",
   "metadata": {},
   "outputs": [
    {
     "name": "stdout",
     "output_type": "stream",
     "text": [
      "Mean absolute error: 128454.55\n",
      "Root mean squred error: 163388.74\n"
     ]
    }
   ],
   "source": [
    "rmse = np.sqrt(np.mean(np.square(y-y_pred)))\n",
    "mae = np.mean(abs(y-y_pred))\n",
    "print(f'Mean absolute error: {mae:.2f}')\n",
    "print(f'Root mean squred error: {rmse:.2f}')"
   ]
  },
  {
   "cell_type": "markdown",
   "id": "5ecdee0b",
   "metadata": {},
   "source": [
    "#### Polynomial regression"
   ]
  },
  {
   "cell_type": "code",
   "execution_count": 150,
   "id": "f41ffcbd",
   "metadata": {},
   "outputs": [],
   "source": [
    "poly_model = np.poly1d(np.polyfit(X, y, 3))"
   ]
  },
  {
   "cell_type": "code",
   "execution_count": 151,
   "id": "f4a0dd26",
   "metadata": {},
   "outputs": [
    {
     "name": "stdout",
     "output_type": "stream",
     "text": [
      "Mодель поліноміальної регресії: \n",
      "      3             2\n",
      "4120 x - 4.855e+04 x + 1.807e+05 x - 1.213e+05\n"
     ]
    }
   ],
   "source": [
    "print('Mодель поліноміальної регресії: ')\n",
    "print(poly_model)"
   ]
  },
  {
   "cell_type": "code",
   "execution_count": 152,
   "id": "bd839789",
   "metadata": {},
   "outputs": [
    {
     "name": "stdout",
     "output_type": "stream",
     "text": [
      "Mean absolute error: 34790.21\n",
      "Root mean squred error: 38931.50\n"
     ]
    }
   ],
   "source": [
    "y_pr = poly_model(X)\n",
    "rmse = np.sqrt(np.mean(np.square(y-y_pr)))\n",
    "mae = np.mean(abs(y-y_pr))\n",
    "print(f'Mean absolute error: {mae:.2f}')\n",
    "print(f'Root mean squred error: {rmse:.2f}')"
   ]
  },
  {
   "cell_type": "markdown",
   "id": "a743f5ce",
   "metadata": {},
   "source": [
    "#### Візуалізація:"
   ]
  },
  {
   "cell_type": "code",
   "execution_count": 153,
   "id": "a65bf5b9",
   "metadata": {},
   "outputs": [
    {
     "data": {
      "image/png": "[encoded data removed]",
      "text/plain": [
       "<Figure size 1000x500 with 1 Axes>"
      ]
     },
     "metadata": {},
     "output_type": "display_data"
    }
   ],
   "source": [
    "\n",
    "plt.figure(figsize=(10,5))\n",
    "plt.scatter(X, y, c='g', label = 'Data')\n",
    "polyline = np.linspace(1, 12)\n",
    "plt.plot(polyline, poly_model(polyline), c = 'darkorange', label = 'Poly regression')\n",
    "plt.plot(X2d, y_pred, linestyle = '--',color='r', label = 'Linear regression')\n",
    "plt.xlabel('Level')\n",
    "plt.ylabel('Salary')\n",
    "plt.grid()\n",
    "plt.legend()\n",
    "plt.ylim (-100000, 1500000) \n",
    "plt.show()"
   ]
  },
  {
   "cell_type": "markdown",
   "id": "a3c7b006",
   "metadata": {},
   "source": [
    "#### Показники mae i rmse у поліноміальній регресії набагато нижчі від відповідних показників лінійної регресії. Також візуально видно, що поліноміальної модель добре описує дані, принаймні набагато краще, ніж лінійна. Немає сенсу ускладнювати модель і додавати нові ступені многочлену, бо тоді модель стає переобученою і прив'язується до конкретних даних."
   ]
  }
 ],
 "metadata": {
  "kernelspec": {
   "display_name": "Python 3 (ipykernel)",
   "language": "python",
   "name": "python3"
  },
  "language_info": {
   "codemirror_mode": {
    "name": "ipython",
    "version": 3
   },
   "file_extension": ".py",
   "mimetype": "text/x-python",
   "name": "python",
   "nbconvert_exporter": "python",
   "pygments_lexer": "ipython3",
   "version": "3.9.13"
  }
 },
 "nbformat": 4,
 "nbformat_minor": 5
}
