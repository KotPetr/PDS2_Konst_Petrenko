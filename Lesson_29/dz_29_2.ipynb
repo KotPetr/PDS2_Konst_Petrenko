{
 "cells": [
  {
   "cell_type": "markdown",
   "id": "27fc0db2",
   "metadata": {},
   "source": [
    "### Task 2\n",
    "Випадкова величина X розподілена рівномірно. Знайти щільність її розподілу, якщо Р(X ≥3) \n",
    "0,4, а математичне сподівання рівне М(Х)=2."
   ]
  },
  {
   "cell_type": "markdown",
   "id": "67777966",
   "metadata": {},
   "source": [
    "Щільність рівномірного розподілу постійна (дорівнює константі) на всьому интервалі: $f(x) = c = \\frac{1}{b−a}$ , де x∈(a;b):\n",
    "\n",
    "$$\\begin{equation*}\n",
    "f(x) =\n",
    " \\begin{cases}\n",
    "   0, x \\leq a \n",
    "   \\\\\n",
    "   \\frac{1}{b−a},  a < x\\leq b\n",
    "   \\\\\n",
    "   0, x > b\n",
    " \\end{cases}\n",
    "\\end{equation*} $$\n",
    "\n",
    "Математичне очікування має формулу: \n",
    "$$ M(x) = \\frac{a+b}{2} $$\n",
    "\n",
    "Тоді можна записати систему рівнянь:\n",
    "\n",
    "$$\\begin{equation*}\n",
    " \\begin{cases}\n",
    "   \\frac{b-3}{b-a} = 0,4\n",
    "   \\\\\n",
    "   \\frac{a+b}{2} = 2   \n",
    " \\end{cases}\n",
    "\\end{equation*} $$\n",
    "\n",
    "$$\\begin{equation*}\n",
    " \\begin{cases}\n",
    "   0.6b + 0.4a = 3\n",
    "   \\\\\n",
    "   a + b = 4  \n",
    " \\end{cases}\n",
    "\\end{equation*} $$\n",
    "\n",
    "Звідси знаходимо значення $a = -3;  b = 7$.  \n",
    "Щільність розподілу буде дорівнювати: $\\frac {1}{7-(-3)} = 0,1$\n",
    "\n",
    "**Відповідь:** На інтервалі $-3 < x \\leq 7$ щільність розподілу буде дорівнювати 0.1, за межами цього інтервалу дорівнює 0.\n"
   ]
  }
 ],
 "metadata": {
  "kernelspec": {
   "display_name": "Python 3 (ipykernel)",
   "language": "python",
   "name": "python3"
  },
  "language_info": {
   "codemirror_mode": {
    "name": "ipython",
    "version": 3
   },
   "file_extension": ".py",
   "mimetype": "text/x-python",
   "name": "python",
   "nbconvert_exporter": "python",
   "pygments_lexer": "ipython3",
   "version": "3.9.13"
  }
 },
 "nbformat": 4,
 "nbformat_minor": 5
}
