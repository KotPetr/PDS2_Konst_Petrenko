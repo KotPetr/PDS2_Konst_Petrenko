{
 "cells": [
  {
   "cell_type": "markdown",
   "id": "13ef390a",
   "metadata": {},
   "source": [
    "### Task 1\n",
    "Протягом 50 років вимірювався рівень води навесні під час повені відносно умовного нуля. Результати вимірювання наведено у вигляді інтервального статистичного розподілу:  \n",
    "\n",
    " |x |0-24|24-48|48-72|72-96|96-120|120-144|144-168|168-192|192-216|\n",
    " |:-|:--:|:---:|:---:|:---:|:----:|:-----:|:-----:|:-----:|:-----:|\n",
    " |ni|  1 |  2  |  4  |  6  |  12  |   16  |   6   |   2   |   1   |  \n",
    "   \n",
    "За заданими статистичними розподілами вибірки висунути $Н_0$ про закон розподілу ознаки генеральної сукупності і при рівні значущості а = 0,01 перевірити її правильність.  \n"
   ]
  },
  {
   "cell_type": "markdown",
   "id": "51ead5e4",
   "metadata": {},
   "source": [
    "Спочатку побудуємо гістограму розподілу виборки, щоб висунути гіпотезу відносно її статистичного розподілу:"
   ]
  },
  {
   "cell_type": "code",
   "execution_count": 52,
   "id": "09729a14",
   "metadata": {},
   "outputs": [],
   "source": [
    "import numpy as np\n",
    "import scipy\n",
    "import matplotlib.pyplot as plt"
   ]
  },
  {
   "cell_type": "code",
   "execution_count": 53,
   "id": "51fd1b74",
   "metadata": {},
   "outputs": [
    {
     "data": {
      "image/png": "[encoded data removed]",
      "text/plain": [
       "<Figure size 800x500 with 1 Axes>"
      ]
     },
     "metadata": {},
     "output_type": "display_data"
    }
   ],
   "source": [
    "xi = [[0, 24], [24, 48], [48, 72],[72, 96],[96, 120],[120, 144], [144, 168], [168, 192], [192, 216]]\n",
    "x1 = sorted(list(set([a for b in xi for a in b]))) # borders\n",
    "x2 = x1[1:]\n",
    "n = np.array([1, 2, 4, 6, 12, 16, 6, 2, 1])\n",
    "\n",
    "fig, ax = plt.subplots()\n",
    "ax.bar(x2, n,  width=20)\n",
    "fig.set_figwidth(8)   \n",
    "fig.set_figheight(5)    \n",
    "plt.xlabel('Висота рівня води, см')\n",
    "plt.ylabel('Кількість спостережень')\n",
    "plt.grid()\n",
    "\n",
    "plt.show()"
   ]
  },
  {
   "cell_type": "markdown",
   "id": "7e5d673b",
   "metadata": {},
   "source": [
    "Наведена вище гістограма дозволяє видвинути гіпотезу $H_0$ щодо нормального розподілу досліджуваної величини.  \n",
    "Проведемо розрахунки для перевірки гіпотези  $H_0$."
   ]
  },
  {
   "cell_type": "code",
   "execution_count": 54,
   "id": "17dbb06b",
   "metadata": {
    "scrolled": true
   },
   "outputs": [
    {
     "name": "stdout",
     "output_type": "stream",
     "text": [
      "Виборочне середнє значення дорівнює: 114.72\n",
      "Дисперсія дорівнює: 1452.44\n",
      "Середнє квадратичне відхилення дорівнює: 38.11\n",
      "z-значення: [-2.38, -1.75, -1.12, -0.49, 0.14, 0.77, 1.4, 2.03]\n",
      "Ф(Zi): [-0.4913 -0.4599 -0.3686 -0.1879  0.0557  0.2794  0.4192  0.4788  0.5   ]\n",
      "Ф(Zi-1): [-0.5    -0.4913 -0.4599 -0.3686 -0.1879  0.0557  0.2794  0.4192  0.4788]\n",
      "pi-значення: [0.0087 0.0314 0.0913 0.1807 0.2436 0.2237 0.1398 0.0596 0.0212]\n",
      "n'-значення: [0.435, 1.57, 4.565, 9.035, 12.18, 11.185, 6.99, 2.98, 1.06]\n",
      "K_емпіричне = 4.13\n",
      "K_критичне = Х^2(a, r) = 16.8\n"
     ]
    }
   ],
   "source": [
    "xi = [[0, 24], [24, 48], [48, 72],[72, 96],[96, 120],[120, 144], [144, 168], [168, 192], [192, 216]]\n",
    "x1 = sorted(list(set([a for b in xi for a in b]))) # borders\n",
    "x = np.array([sum(i)/2 for i in xi])  # averages\n",
    "n = np.array([1, 2, 4, 6, 12, 16, 6, 2, 1])\n",
    "N = sum(n)\n",
    "\n",
    "# Виборочне середнє\n",
    "X = sum(x*n)/N \n",
    "\n",
    "# Дисперсія\n",
    "D = sum([n[i]*(x[i] - X)**2 for i in range(len(x))])/N\n",
    "\n",
    "# Стандартне відхилення\n",
    "sd = round(D**0.5, 4)\n",
    "\n",
    "z = [round((i - X)/sd, 2) for i in x1]\n",
    "z = z[1:-1]              # z values\n",
    "\n",
    "Fzi_1 = [round(scipy.stats.norm.cdf(i) - 0.5, 4) for i in z] \n",
    "Fzi = Fzi_1.copy()  \n",
    "Fzi.append(0.5)          # Ф(Zi) \n",
    "Fzi_1.insert(0, -0.5)    # Ф(Zi-1)\n",
    "Fzi = np.array(Fzi)\n",
    "Fzi_1 = np.array(Fzi_1)\n",
    "\n",
    "pi = Fzi - Fzi_1         # pi\n",
    "n_ = [round(i * N, 4) for i in pi]  #n` = pi x N\n",
    "\n",
    "a = [(n[i] - n_[i])**2/n[i] for i in range(len(n))]\n",
    "K_emp = sum(a)\n",
    "K_kr = 16.8\n",
    "\n",
    "print(f'Виборочне середнє значення дорівнює: {X}')\n",
    "print(f\"Дисперсія дорівнює: {round(D, 2)}\")\n",
    "print(f'Середнє квадратичне відхилення дорівнює: {round(sd, 2)}') \n",
    "print(f'z-значення: {z}')\n",
    "print(f'Ф(Zi): {Fzi}')\n",
    "print(f'Ф(Zi-1): {Fzi_1}')\n",
    "print(f'pi-значення: {pi}')\n",
    "print(f'n\\'-значення: {n_}')\n",
    "print(f'K_емпіричне = {round(K_emp, 2)}')\n",
    "print(f'K_критичне = Х^2(a, r) = {K_kr}')\n"
   ]
  },
  {
   "cell_type": "markdown",
   "id": "5ddfa85e",
   "metadata": {},
   "source": [
    "**Висновок:** Оскільки отримане значення К_емп = 4.13 є меншим за К_кр = 16.8, то ми маємо підстави для прийняття нашої $H_0$ гіпотези, тобто величина, яка описує спостереження за рівнем води, з рівнем значущості $\\alpha$ = 0.01 має нормальний розподіл."
   ]
  }
 ],
 "metadata": {
  "kernelspec": {
   "display_name": "Python 3 (ipykernel)",
   "language": "python",
   "name": "python3"
  },
  "language_info": {
   "codemirror_mode": {
    "name": "ipython",
    "version": 3
   },
   "file_extension": ".py",
   "mimetype": "text/x-python",
   "name": "python",
   "nbconvert_exporter": "python",
   "pygments_lexer": "ipython3",
   "version": "3.9.13"
  }
 },
 "nbformat": 4,
 "nbformat_minor": 5
}
