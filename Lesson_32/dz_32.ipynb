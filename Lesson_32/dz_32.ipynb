{
 "cells": [
  {
   "cell_type": "markdown",
   "id": "f3bbd2a8",
   "metadata": {},
   "source": [
    "### Завдання:\n",
    "1. Створіть датафрейм розміром 15*5, що містить наступні дані:\n",
    "    * а) ім'я та прізвище студента;\n",
    "    * б) середній бал\n",
    "    * в) оцінка за поточний екзамен\n",
    "    * г) кількість спроб здачі поточного екзамену\n",
    "2. Додайте до датафрейму стовпчик, що містить дані про допуск студента на наступний курс.\n",
    "3. Виведіть мінімальний, максимальний, середній та медіанний показники середнього балу студентів.\n",
    "4. Виведіть кількість студентів, що здали поточний екзамен з першого разу.\n",
    "5. Збережіть будь-які дані з датафрейму у вигляді серії."
   ]
  },
  {
   "cell_type": "code",
   "execution_count": 22,
   "id": "66ff531b",
   "metadata": {},
   "outputs": [],
   "source": [
    "import pandas as pd"
   ]
  },
  {
   "cell_type": "markdown",
   "id": "cd78f42f",
   "metadata": {},
   "source": [
    "**1. Датафрейм розміром 15х5:**"
   ]
  },
  {
   "cell_type": "code",
   "execution_count": 23,
   "id": "c0d832a0",
   "metadata": {},
   "outputs": [
    {
     "data": {
      "text/html": [
       "<div>\n",
       "<style scoped>\n",
       "    .dataframe tbody tr th:only-of-type {\n",
       "        vertical-align: middle;\n",
       "    }\n",
       "\n",
       "    .dataframe tbody tr th {\n",
       "        vertical-align: top;\n",
       "    }\n",
       "\n",
       "    .dataframe thead th {\n",
       "        text-align: right;\n",
       "    }\n",
       "</style>\n",
       "<table border=\"1\" class=\"dataframe\">\n",
       "  <thead>\n",
       "    <tr style=\"text-align: right;\">\n",
       "      <th></th>\n",
       "      <th>name</th>\n",
       "      <th>avg_score</th>\n",
       "      <th>cur_score</th>\n",
       "      <th>attempts</th>\n",
       "      <th>course_pass</th>\n",
       "    </tr>\n",
       "  </thead>\n",
       "  <tbody>\n",
       "    <tr>\n",
       "      <th>0</th>\n",
       "      <td>Tom</td>\n",
       "      <td>8.7</td>\n",
       "      <td>10</td>\n",
       "      <td>1</td>\n",
       "      <td>NaN</td>\n",
       "    </tr>\n",
       "    <tr>\n",
       "      <th>1</th>\n",
       "      <td>Donald</td>\n",
       "      <td>7.9</td>\n",
       "      <td>8</td>\n",
       "      <td>3</td>\n",
       "      <td>NaN</td>\n",
       "    </tr>\n",
       "    <tr>\n",
       "      <th>2</th>\n",
       "      <td>Kate</td>\n",
       "      <td>5.1</td>\n",
       "      <td>6</td>\n",
       "      <td>2</td>\n",
       "      <td>NaN</td>\n",
       "    </tr>\n",
       "    <tr>\n",
       "      <th>3</th>\n",
       "      <td>Sara</td>\n",
       "      <td>10.9</td>\n",
       "      <td>12</td>\n",
       "      <td>1</td>\n",
       "      <td>NaN</td>\n",
       "    </tr>\n",
       "    <tr>\n",
       "      <th>4</th>\n",
       "      <td>Nancy</td>\n",
       "      <td>5.6</td>\n",
       "      <td>7</td>\n",
       "      <td>2</td>\n",
       "      <td>NaN</td>\n",
       "    </tr>\n",
       "    <tr>\n",
       "      <th>5</th>\n",
       "      <td>Nik</td>\n",
       "      <td>6.0</td>\n",
       "      <td>6</td>\n",
       "      <td>3</td>\n",
       "      <td>NaN</td>\n",
       "    </tr>\n",
       "    <tr>\n",
       "      <th>6</th>\n",
       "      <td>Bill</td>\n",
       "      <td>10.6</td>\n",
       "      <td>12</td>\n",
       "      <td>1</td>\n",
       "      <td>NaN</td>\n",
       "    </tr>\n",
       "    <tr>\n",
       "      <th>7</th>\n",
       "      <td>Mary</td>\n",
       "      <td>10.7</td>\n",
       "      <td>11</td>\n",
       "      <td>1</td>\n",
       "      <td>NaN</td>\n",
       "    </tr>\n",
       "    <tr>\n",
       "      <th>8</th>\n",
       "      <td>Bob</td>\n",
       "      <td>9.7</td>\n",
       "      <td>10</td>\n",
       "      <td>3</td>\n",
       "      <td>NaN</td>\n",
       "    </tr>\n",
       "    <tr>\n",
       "      <th>9</th>\n",
       "      <td>Jane</td>\n",
       "      <td>4.2</td>\n",
       "      <td>5</td>\n",
       "      <td>3</td>\n",
       "      <td>NaN</td>\n",
       "    </tr>\n",
       "    <tr>\n",
       "      <th>10</th>\n",
       "      <td>Jim</td>\n",
       "      <td>8.4</td>\n",
       "      <td>10</td>\n",
       "      <td>2</td>\n",
       "      <td>NaN</td>\n",
       "    </tr>\n",
       "    <tr>\n",
       "      <th>11</th>\n",
       "      <td>Ann</td>\n",
       "      <td>11.0</td>\n",
       "      <td>11</td>\n",
       "      <td>1</td>\n",
       "      <td>NaN</td>\n",
       "    </tr>\n",
       "    <tr>\n",
       "      <th>12</th>\n",
       "      <td>Lis</td>\n",
       "      <td>7.6</td>\n",
       "      <td>9</td>\n",
       "      <td>2</td>\n",
       "      <td>NaN</td>\n",
       "    </tr>\n",
       "    <tr>\n",
       "      <th>13</th>\n",
       "      <td>Bekky</td>\n",
       "      <td>8.1</td>\n",
       "      <td>9</td>\n",
       "      <td>2</td>\n",
       "      <td>NaN</td>\n",
       "    </tr>\n",
       "    <tr>\n",
       "      <th>14</th>\n",
       "      <td>John</td>\n",
       "      <td>7.5</td>\n",
       "      <td>8</td>\n",
       "      <td>3</td>\n",
       "      <td>NaN</td>\n",
       "    </tr>\n",
       "  </tbody>\n",
       "</table>\n",
       "</div>"
      ],
      "text/plain": [
       "      name  avg_score  cur_score  attempts  course_pass\n",
       "0      Tom        8.7         10         1          NaN\n",
       "1   Donald        7.9          8         3          NaN\n",
       "2     Kate        5.1          6         2          NaN\n",
       "3     Sara       10.9         12         1          NaN\n",
       "4    Nancy        5.6          7         2          NaN\n",
       "5      Nik        6.0          6         3          NaN\n",
       "6     Bill       10.6         12         1          NaN\n",
       "7     Mary       10.7         11         1          NaN\n",
       "8      Bob        9.7         10         3          NaN\n",
       "9     Jane        4.2          5         3          NaN\n",
       "10     Jim        8.4         10         2          NaN\n",
       "11     Ann       11.0         11         1          NaN\n",
       "12     Lis        7.6          9         2          NaN\n",
       "13   Bekky        8.1          9         2          NaN\n",
       "14    John        7.5          8         3          NaN"
      ]
     },
     "execution_count": 23,
     "metadata": {},
     "output_type": "execute_result"
    }
   ],
   "source": [
    "df = pd.read_excel('students.xlsx')\n",
    "df"
   ]
  },
  {
   "cell_type": "code",
   "execution_count": 24,
   "id": "2ac820cf",
   "metadata": {},
   "outputs": [
    {
     "data": {
      "text/plain": [
       "(15, 5)"
      ]
     },
     "execution_count": 24,
     "metadata": {},
     "output_type": "execute_result"
    }
   ],
   "source": [
    "df.shape"
   ]
  },
  {
   "cell_type": "markdown",
   "id": "8d17a339",
   "metadata": {},
   "source": [
    "**2. Доданий стовпчик про допуск студента 'course_pass':**"
   ]
  },
  {
   "cell_type": "code",
   "execution_count": 25,
   "id": "eca2e5e8",
   "metadata": {},
   "outputs": [
    {
     "data": {
      "text/html": [
       "<div>\n",
       "<style scoped>\n",
       "    .dataframe tbody tr th:only-of-type {\n",
       "        vertical-align: middle;\n",
       "    }\n",
       "\n",
       "    .dataframe tbody tr th {\n",
       "        vertical-align: top;\n",
       "    }\n",
       "\n",
       "    .dataframe thead th {\n",
       "        text-align: right;\n",
       "    }\n",
       "</style>\n",
       "<table border=\"1\" class=\"dataframe\">\n",
       "  <thead>\n",
       "    <tr style=\"text-align: right;\">\n",
       "      <th></th>\n",
       "      <th>name</th>\n",
       "      <th>avg_score</th>\n",
       "      <th>cur_score</th>\n",
       "      <th>attempts</th>\n",
       "      <th>course_pass</th>\n",
       "    </tr>\n",
       "  </thead>\n",
       "  <tbody>\n",
       "    <tr>\n",
       "      <th>0</th>\n",
       "      <td>Tom</td>\n",
       "      <td>8.7</td>\n",
       "      <td>10</td>\n",
       "      <td>1</td>\n",
       "      <td>1</td>\n",
       "    </tr>\n",
       "    <tr>\n",
       "      <th>1</th>\n",
       "      <td>Donald</td>\n",
       "      <td>7.9</td>\n",
       "      <td>8</td>\n",
       "      <td>3</td>\n",
       "      <td>1</td>\n",
       "    </tr>\n",
       "    <tr>\n",
       "      <th>2</th>\n",
       "      <td>Kate</td>\n",
       "      <td>5.1</td>\n",
       "      <td>6</td>\n",
       "      <td>2</td>\n",
       "      <td>1</td>\n",
       "    </tr>\n",
       "    <tr>\n",
       "      <th>3</th>\n",
       "      <td>Sara</td>\n",
       "      <td>10.9</td>\n",
       "      <td>12</td>\n",
       "      <td>1</td>\n",
       "      <td>1</td>\n",
       "    </tr>\n",
       "    <tr>\n",
       "      <th>4</th>\n",
       "      <td>Nancy</td>\n",
       "      <td>5.6</td>\n",
       "      <td>7</td>\n",
       "      <td>2</td>\n",
       "      <td>1</td>\n",
       "    </tr>\n",
       "    <tr>\n",
       "      <th>5</th>\n",
       "      <td>Nik</td>\n",
       "      <td>6.0</td>\n",
       "      <td>6</td>\n",
       "      <td>3</td>\n",
       "      <td>1</td>\n",
       "    </tr>\n",
       "    <tr>\n",
       "      <th>6</th>\n",
       "      <td>Bill</td>\n",
       "      <td>10.6</td>\n",
       "      <td>12</td>\n",
       "      <td>1</td>\n",
       "      <td>1</td>\n",
       "    </tr>\n",
       "    <tr>\n",
       "      <th>7</th>\n",
       "      <td>Mary</td>\n",
       "      <td>10.7</td>\n",
       "      <td>11</td>\n",
       "      <td>1</td>\n",
       "      <td>1</td>\n",
       "    </tr>\n",
       "    <tr>\n",
       "      <th>8</th>\n",
       "      <td>Bob</td>\n",
       "      <td>9.7</td>\n",
       "      <td>10</td>\n",
       "      <td>3</td>\n",
       "      <td>1</td>\n",
       "    </tr>\n",
       "    <tr>\n",
       "      <th>9</th>\n",
       "      <td>Jane</td>\n",
       "      <td>4.2</td>\n",
       "      <td>5</td>\n",
       "      <td>3</td>\n",
       "      <td>0</td>\n",
       "    </tr>\n",
       "    <tr>\n",
       "      <th>10</th>\n",
       "      <td>Jim</td>\n",
       "      <td>8.4</td>\n",
       "      <td>10</td>\n",
       "      <td>2</td>\n",
       "      <td>1</td>\n",
       "    </tr>\n",
       "    <tr>\n",
       "      <th>11</th>\n",
       "      <td>Ann</td>\n",
       "      <td>11.0</td>\n",
       "      <td>11</td>\n",
       "      <td>1</td>\n",
       "      <td>1</td>\n",
       "    </tr>\n",
       "    <tr>\n",
       "      <th>12</th>\n",
       "      <td>Lis</td>\n",
       "      <td>7.6</td>\n",
       "      <td>9</td>\n",
       "      <td>2</td>\n",
       "      <td>1</td>\n",
       "    </tr>\n",
       "    <tr>\n",
       "      <th>13</th>\n",
       "      <td>Bekky</td>\n",
       "      <td>8.1</td>\n",
       "      <td>9</td>\n",
       "      <td>2</td>\n",
       "      <td>1</td>\n",
       "    </tr>\n",
       "    <tr>\n",
       "      <th>14</th>\n",
       "      <td>John</td>\n",
       "      <td>7.5</td>\n",
       "      <td>8</td>\n",
       "      <td>3</td>\n",
       "      <td>1</td>\n",
       "    </tr>\n",
       "  </tbody>\n",
       "</table>\n",
       "</div>"
      ],
      "text/plain": [
       "      name  avg_score  cur_score  attempts  course_pass\n",
       "0      Tom        8.7         10         1            1\n",
       "1   Donald        7.9          8         3            1\n",
       "2     Kate        5.1          6         2            1\n",
       "3     Sara       10.9         12         1            1\n",
       "4    Nancy        5.6          7         2            1\n",
       "5      Nik        6.0          6         3            1\n",
       "6     Bill       10.6         12         1            1\n",
       "7     Mary       10.7         11         1            1\n",
       "8      Bob        9.7         10         3            1\n",
       "9     Jane        4.2          5         3            0\n",
       "10     Jim        8.4         10         2            1\n",
       "11     Ann       11.0         11         1            1\n",
       "12     Lis        7.6          9         2            1\n",
       "13   Bekky        8.1          9         2            1\n",
       "14    John        7.5          8         3            1"
      ]
     },
     "execution_count": 25,
     "metadata": {},
     "output_type": "execute_result"
    }
   ],
   "source": [
    "pass_mark = 6\n",
    "cs = df[('cur_score')]\n",
    "course_pass = pd.Series(int(score >= pass_mark) for score in cs)\n",
    "df['course_pass'] = course_pass\n",
    "df"
   ]
  },
  {
   "cell_type": "markdown",
   "id": "e747206a",
   "metadata": {},
   "source": [
    "**3. Мінімальний, максимальний, середній та медіанний показники середнього балу студентів:**"
   ]
  },
  {
   "cell_type": "code",
   "execution_count": 26,
   "id": "e42dc35b",
   "metadata": {},
   "outputs": [
    {
     "data": {
      "text/plain": [
       "max       11.000000\n",
       "min        4.200000\n",
       "mean       8.133333\n",
       "median     8.100000\n",
       "Name: avg_score, dtype: float64"
      ]
     },
     "execution_count": 26,
     "metadata": {},
     "output_type": "execute_result"
    }
   ],
   "source": [
    "df['avg_score'].agg(['max', 'min', 'mean', 'median'])"
   ]
  },
  {
   "cell_type": "markdown",
   "id": "72f0b7d5",
   "metadata": {},
   "source": [
    "**4. Кількість студентів, що здали поточний екзамен з першого разу:**"
   ]
  },
  {
   "cell_type": "code",
   "execution_count": 27,
   "id": "49393966",
   "metadata": {},
   "outputs": [
    {
     "name": "stdout",
     "output_type": "stream",
     "text": [
      "5 студентів здали поточний екзамен з першого разу.\n"
     ]
    }
   ],
   "source": [
    "attempt_1 = int(df.loc[(df['attempts'] == 1)].groupby('attempts')['name'].count())\n",
    "print(f'{attempt_1} студентів здали поточний екзамен з першого разу.')"
   ]
  },
  {
   "cell_type": "markdown",
   "id": "77cab4b0",
   "metadata": {},
   "source": [
    "**5. Кількість спроб студентів:**"
   ]
  },
  {
   "cell_type": "code",
   "execution_count": 28,
   "id": "93892562",
   "metadata": {},
   "outputs": [
    {
     "name": "stdout",
     "output_type": "stream",
     "text": [
      "Attempts series:\n"
     ]
    },
    {
     "data": {
      "text/plain": [
       "0     1\n",
       "1     3\n",
       "2     2\n",
       "3     1\n",
       "4     2\n",
       "5     3\n",
       "6     1\n",
       "7     1\n",
       "8     3\n",
       "9     3\n",
       "10    2\n",
       "11    1\n",
       "12    2\n",
       "13    2\n",
       "14    3\n",
       "Name: attempts, dtype: int64"
      ]
     },
     "execution_count": 28,
     "metadata": {},
     "output_type": "execute_result"
    }
   ],
   "source": [
    "attempts = df[('attempts')]\n",
    "print('Attempts series:')\n",
    "attempts"
   ]
  }
 ],
 "metadata": {
  "kernelspec": {
   "display_name": "Python 3 (ipykernel)",
   "language": "python",
   "name": "python3"
  },
  "language_info": {
   "codemirror_mode": {
    "name": "ipython",
    "version": 3
   },
   "file_extension": ".py",
   "mimetype": "text/x-python",
   "name": "python",
   "nbconvert_exporter": "python",
   "pygments_lexer": "ipython3",
   "version": "3.9.13"
  }
 },
 "nbformat": 4,
 "nbformat_minor": 5
}
