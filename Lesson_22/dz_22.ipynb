{
 "cells": [
  {
   "cell_type": "markdown",
   "id": "97cb5af5",
   "metadata": {},
   "source": [
    "### Task 1\n",
    "Вирішіть задачу: За підсумками іспитів з 37 студентів відмінну оцінку з математики мали 15 студентів, з фізики – 16,\n",
    "з хімії – 19, з математики та фізики – 7, з математики та хімії – 9, з фізики та хімії – 6, з усіх трьох\n",
    "дисциплін – 4. Скільки студентів отримали хоча б по одній відмінній оцінці? Роботу виконайте у середовищі Jupyter Notebook."
   ]
  },
  {
   "cell_type": "code",
   "execution_count": 8,
   "id": "6314279f",
   "metadata": {
    "scrolled": true
   },
   "outputs": [
    {
     "name": "stdout",
     "output_type": "stream",
     "text": [
      "Хоча б по одній відмінній оцінці отримали 32 студента\n"
     ]
    }
   ],
   "source": [
    "total = 37\n",
    "M = 15 # math\n",
    "P = 16 # phis\n",
    "C = 19 # chem\n",
    "M_n_P = 7\n",
    "M_n_C = 9\n",
    "P_n_C = 6\n",
    "M_n_P_n_C = 4\n",
    "\n",
    "M_U_P_U_C = M + P + C - M_n_P - M_n_C - P_n_C + M_n_P_n_C\n",
    "\n",
    "print(f'Хоча б по одній відмінній оцінці отримали {M_U_P_U_C} студента')\n"
   ]
  },
  {
   "cell_type": "markdown",
   "id": "ada7935c",
   "metadata": {},
   "source": [
    "![](DV1.png 'Venn diagram')"
   ]
  },
  {
   "cell_type": "markdown",
   "id": "bc21d6a8",
   "metadata": {},
   "source": [
    "### Task 2\n",
    "Вирішіть задачу: Протягом 30 днів вересня було 12 дощових, 8 вітряних, 4 холодних, 5 дощових та вітряних, 3 дощових\n",
    "та холодних, 2 вітряних та холодних, а один день був дощовий, вітряний та холодний одночасно. Скільки днів у вересні\n",
    "була гарна погода? Роботу виконати у середовищі Jupyter Notebook."
   ]
  },
  {
   "cell_type": "code",
   "execution_count": 9,
   "id": "fea9e70a",
   "metadata": {},
   "outputs": [
    {
     "name": "stdout",
     "output_type": "stream",
     "text": [
      "15 днів у вересні була гарна погода.\n"
     ]
    }
   ],
   "source": [
    "total_days = 30\n",
    "R = 12 # rainy\n",
    "W = 8 # windy\n",
    "C = 4 # cold\n",
    "R_n_W = 5\n",
    "R_n_C = 3\n",
    "W_n_C = 2\n",
    "R_n_W_n_C = 1\n",
    "\n",
    "R_U_W_U_C = R + W + C - R_n_W - R_n_C - W_n_C + R_n_W_n_C # total bad weather days\n",
    "nice_days = total_days - R_U_W_U_C\n",
    "\n",
    "print(f'{nice_days} днів у вересні була гарна погода.')"
   ]
  },
  {
   "cell_type": "markdown",
   "id": "ce9b37b1",
   "metadata": {},
   "source": [
    "![](DV2.png 'Venn diagram')"
   ]
  }
 ],
 "metadata": {
  "kernelspec": {
   "display_name": "Python 3 (ipykernel)",
   "language": "python",
   "name": "python3"
  },
  "language_info": {
   "codemirror_mode": {
    "name": "ipython",
    "version": 3
   },
   "file_extension": ".py",
   "mimetype": "text/x-python",
   "name": "python",
   "nbconvert_exporter": "python",
   "pygments_lexer": "ipython3",
   "version": "3.10.7"
  }
 },
 "nbformat": 4,
 "nbformat_minor": 5
}
