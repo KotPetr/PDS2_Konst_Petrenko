{
 "cells": [
  {
   "cell_type": "markdown",
   "id": "91684587",
   "metadata": {},
   "source": [
    "### Task 1\n",
    "| Year | Rank | Company               | Revenue| Profit |\n",
    "| :---:|:----:| :---                  |   ---: | ---:   | \n",
    "|1955  | 229  | Norton                | 135.0  | N.A.   |\n",
    "|1955  | 291  | Shlitz Brewing        | 100.0  | N.A.   |  \n",
    "|1955  | 295  | Pacific Vegetable Oil | 97.9   | N.A.   |  \n",
    "|1955  | 297  | Leibmann Breweries    | 96.0   | N.A.   |  \n",
    "|1955  | 353  | Minneapolis-Moline    | 77.4   | N.A.   |  "
   ]
  },
  {
   "cell_type": "markdown",
   "id": "542de8c5",
   "metadata": {},
   "source": [
    "### Task 2"
   ]
  },
  {
   "cell_type": "code",
   "execution_count": 11,
   "id": "ca88e13c",
   "metadata": {},
   "outputs": [],
   "source": [
    "import random, time\n",
    "from random_word import RandomWords\n",
    "\n",
    "r = RandomWords()\n",
    "int_list = []\n",
    "float_list = []\n",
    "str_list = []\n",
    "\n",
    "for i in range(0, 5000):\n",
    "    int_list.append(random.randint(0, 1000))\n",
    "    float_list.append(random.uniform(0.1, 100.0))\n",
    "    str_list.append(r.get_random_word())    \n",
    "\n",
    "\n",
    "class SortAlgorithms:\n",
    "\n",
    "    # Selection Sort Algorithm\n",
    "    @classmethod\n",
    "    def selection_sort(cls, data):\n",
    "        for scanIndex in range(0, len(data)):\n",
    "            minIndex = scanIndex\n",
    "            for compIndex in range(scanIndex + 1, len(data)):\n",
    "                if data[compIndex] < data[minIndex]:\n",
    "                    minIndex = compIndex\n",
    "            if minIndex != scanIndex:\n",
    "                data[scanIndex], data[minIndex] = data[minIndex], data[scanIndex]\n",
    "\n",
    "\n",
    "    # Insertion Sort Algorithm\n",
    "    @classmethod\n",
    "    def insertion_sort(cls, data):\n",
    "        for scanIndex in range(1, len(data)):\n",
    "            tmp = data[scanIndex]\n",
    "            minIndex = scanIndex\n",
    "            while minIndex > 0 and tmp < data[minIndex - 1]:\n",
    "                data[minIndex] = data[minIndex - 1]\n",
    "                minIndex -= 1\n",
    "            data[minIndex] = tmp\n",
    "\n",
    "    # Heap Sort Algorithm\n",
    "    @classmethod\n",
    "    def __heapify(cls, nums, heap_size, root_index):\n",
    "\n",
    "        largest = root_index\n",
    "        left_child = (2 * root_index) + 1\n",
    "        right_child = (2 * root_index) + 2\n",
    "\n",
    "        if left_child < heap_size and nums[left_child] > nums[largest]:\n",
    "            largest = left_child\n",
    "\n",
    "        if right_child < heap_size and nums[right_child] > nums[largest]:\n",
    "            largest = right_child\n",
    "\n",
    "        if largest != root_index:\n",
    "            nums[root_index], nums[largest] = nums[largest], nums[root_index]\n",
    "            cls.__heapify(nums, heap_size, largest)\n",
    "\n",
    "    @classmethod\n",
    "    def heap_sort(cls, nums):\n",
    "        n = len(nums)\n",
    "        for i in range(n, -1, -1):\n",
    "            cls.__heapify(nums, n, i)\n",
    "\n",
    "        for i in range(n - 1, 0, -1):\n",
    "            nums[i], nums[0] = nums[0], nums[i]\n",
    "            cls.__heapify(nums, i, 0)\n",
    "\n"
   ]
  },
  {
   "cell_type": "code",
   "execution_count": 18,
   "id": "36ec0946",
   "metadata": {
    "scrolled": true
   },
   "outputs": [
    {
     "name": "stdout",
     "output_type": "stream",
     "text": [
      "19.1 ms ± 89.7 µs per loop (mean ± std. dev. of 7 runs, 100 loops each)\n"
     ]
    }
   ],
   "source": [
    "%%timeit\n",
    "SortAlgorithms.heap_sort(str_list)"
   ]
  }
 ],
 "metadata": {
  "kernelspec": {
   "display_name": "Python 3 (ipykernel)",
   "language": "python",
   "name": "python3"
  },
  "language_info": {
   "codemirror_mode": {
    "name": "ipython",
    "version": 3
   },
   "file_extension": ".py",
   "mimetype": "text/x-python",
   "name": "python",
   "nbconvert_exporter": "python",
   "pygments_lexer": "ipython3",
   "version": "3.10.7"
  }
 },
 "nbformat": 4,
 "nbformat_minor": 5
}
