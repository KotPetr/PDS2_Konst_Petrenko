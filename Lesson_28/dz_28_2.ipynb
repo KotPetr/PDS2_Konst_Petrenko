{
 "cells": [
  {
   "cell_type": "markdown",
   "id": "de6abddd",
   "metadata": {},
   "source": [
    "### Task 2\n",
    "\n",
    "Знайти з надійністю у=0,95 інтервальну оцінку для ймовірності настання події А в кожном\n",
    "is n =100 незалежних повторних випробувань, якщо подія відбулась m = 40 раз.\n"
   ]
  },
  {
   "cell_type": "markdown",
   "id": "d3428be6",
   "metadata": {},
   "source": [
    "Для оцінки з надійністю γ ймовірності настання події А в кожному із n незалежних випробувань, якщо подія А відбулась m раз, використовують довірчий інтервал: p1 < p < p2, де    \n",
    "$$p_i = \\frac{1}{t^2+n} \\left( m+\\frac{t^2}{2} \\pm t\\sqrt{\\frac{m(n-m)}{n} +\\frac{t^2}{4}}\\right)$$  \n",
    "Значення t отримуємо із таблиць Лапласа t = 1.96."
   ]
  },
  {
   "cell_type": "code",
   "execution_count": 38,
   "id": "2f29e612",
   "metadata": {},
   "outputs": [
    {
     "name": "stdout",
     "output_type": "stream",
     "text": [
      "Інтервальна оцінка настання події А: (0.31 : 0.5)\n"
     ]
    }
   ],
   "source": [
    "n = 100\n",
    "m = 40\n",
    "t = 1.96\n",
    "\n",
    "p1 = 1/(t**2 + n)*((m + (t**2)/2) - t*((m*(n - m)/n) + (t**2)/4)**0.5)\n",
    "p2 = 1/(t**2 + n)*((m + (t**2)/2) + t*((m*(n - m)/n) + (t**2)/4)**0.5)\n",
    "\n",
    "print(f\"Інтервальна оцінка настання події А: ({round(p1, 2)} : {round(p2, 2)})\")\n"
   ]
  }
 ],
 "metadata": {
  "kernelspec": {
   "display_name": "Python 3 (ipykernel)",
   "language": "python",
   "name": "python3"
  },
  "language_info": {
   "codemirror_mode": {
    "name": "ipython",
    "version": 3
   },
   "file_extension": ".py",
   "mimetype": "text/x-python",
   "name": "python",
   "nbconvert_exporter": "python",
   "pygments_lexer": "ipython3",
   "version": "3.9.13"
  }
 },
 "nbformat": 4,
 "nbformat_minor": 5
}
