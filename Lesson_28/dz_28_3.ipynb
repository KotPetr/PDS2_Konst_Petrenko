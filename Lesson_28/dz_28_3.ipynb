{
 "cells": [
  {
   "cell_type": "markdown",
   "id": "574e7255",
   "metadata": {},
   "source": [
    "### Task 3\n",
    "Знайти мінімальний об'єм вибірки, при якому з надійністю у=0,99 точність оцінки математичного сподівання а нормально розподіленої ознаки дорівнює $\\delta$=0,6, якщо середне квадратичне відхилення $\\sigma$=3."
   ]
  },
  {
   "cell_type": "markdown",
   "id": "723ce58e",
   "metadata": {},
   "source": [
    "Скористуємось формулою для находження об'єму вибірки необхідної для інтервальної оцінки середнього:  \n",
    "$$ n = \\frac{t^2 \\sigma^2}{\\delta^2} $$  \n",
    "де t знаходиться із таблиці Лапласа для заданої надійності t = 2.58"
   ]
  },
  {
   "cell_type": "code",
   "execution_count": 6,
   "id": "273495d2",
   "metadata": {},
   "outputs": [
    {
     "name": "stdout",
     "output_type": "stream",
     "text": [
      "Мінімальний об'єм вибірки для заданих параметрів: 167\n"
     ]
    }
   ],
   "source": [
    "import math\n",
    "sigma = 3\n",
    "delta = 0.6\n",
    "t = 2.58\n",
    "n = (t**2*sigma**2)/delta**2\n",
    "print(f'Мінімальний об\\'єм вибірки для заданих параметрів: {math.ceil(n)}' )"
   ]
  }
 ],
 "metadata": {
  "kernelspec": {
   "display_name": "Python 3 (ipykernel)",
   "language": "python",
   "name": "python3"
  },
  "language_info": {
   "codemirror_mode": {
    "name": "ipython",
    "version": 3
   },
   "file_extension": ".py",
   "mimetype": "text/x-python",
   "name": "python",
   "nbconvert_exporter": "python",
   "pygments_lexer": "ipython3",
   "version": "3.9.13"
  }
 },
 "nbformat": 4,
 "nbformat_minor": 5
}
