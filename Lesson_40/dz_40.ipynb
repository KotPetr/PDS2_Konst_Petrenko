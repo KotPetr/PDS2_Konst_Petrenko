{
 "cells": [
  {
   "cell_type": "markdown",
   "id": "11839337",
   "metadata": {},
   "source": [
    "## Завдання\n",
    "Проведіть класифікацію на основі датасету UCI ML Breast Cancer Wisconsin, використовуючи вказані у презентації моделі бустингу, беггінгу та стекінгу. Змініть їх параметри наступним чином:  \n",
    "+ у StackingClassifier як базові алгоритми встановіть LogisticRegression та DecisionTreeClassifier, як фінальну модель – SVC;\n",
    "+ у BaggingClassifier як базовий алгоритм встановіть DecisionTreeClassifier;\n",
    "+ у AdaBoostClassifier як базовий алгоритм встановіть LogisticRegression\n",
    "+ у XGBСlassifier як базовий алгоритм (booster) встановіть ‘gbtree’.\n",
    "+ У зведеній таблиці порівняйте результати класифікацій, наведених у коді, із класифікаціями, що отримані вами.\n"
   ]
  },
  {
   "cell_type": "code",
   "execution_count": 118,
   "id": "d4041408",
   "metadata": {},
   "outputs": [],
   "source": [
    "from sklearn.ensemble import StackingClassifier\n",
    "from sklearn.datasets import load_breast_cancer\n",
    "from sklearn.linear_model import LogisticRegression\n",
    "from sklearn.linear_model import SGDClassifier\n",
    "from sklearn.tree import DecisionTreeClassifier\n",
    "from sklearn.model_selection import train_test_split\n",
    "from sklearn.svm import SVC\n",
    "from sklearn.ensemble import BaggingClassifier\n",
    "from sklearn.ensemble import AdaBoostClassifier\n",
    "import numpy as np\n",
    "import pandas as pd\n",
    "\n",
    "from xgboost import XGBClassifier\n",
    "from sklearn import preprocessing"
   ]
  },
  {
   "cell_type": "markdown",
   "id": "540baded",
   "metadata": {},
   "source": [
    "##### Загрузка та підготовка даних"
   ]
  },
  {
   "cell_type": "code",
   "execution_count": 119,
   "id": "f3d055d7",
   "metadata": {},
   "outputs": [],
   "source": [
    "data = load_breast_cancer()\n",
    "X, y = load_breast_cancer(return_X_y=True)\n",
    "\n",
    "scaler = preprocessing.StandardScaler().fit(X)\n",
    "X_scaled = scaler.transform(X)\n",
    "\n",
    "X_train, X_test, y_train, y_test = train_test_split(X_scaled, y, test_size=0.3, random_state=12)"
   ]
  },
  {
   "cell_type": "markdown",
   "id": "55336bde",
   "metadata": {},
   "source": [
    "##### Stacking ensemble"
   ]
  },
  {
   "cell_type": "code",
   "execution_count": 120,
   "id": "b0b05561",
   "metadata": {},
   "outputs": [],
   "source": [
    "estimators = [('lgr', LogisticRegression()), ('dtr', DecisionTreeClassifier())]\n",
    "model_cls = StackingClassifier(estimators=estimators, final_estimator=SVC())"
   ]
  },
  {
   "cell_type": "code",
   "execution_count": 121,
   "id": "7783bd5c",
   "metadata": {},
   "outputs": [
    {
     "data": {
      "text/plain": [
       "StackingClassifier(estimators=[('lgr', LogisticRegression()),\n",
       "                               ('dtr', DecisionTreeClassifier())],\n",
       "                   final_estimator=SVC())"
      ]
     },
     "execution_count": 121,
     "metadata": {},
     "output_type": "execute_result"
    }
   ],
   "source": [
    "model_cls.fit(X_train, y_train)"
   ]
  },
  {
   "cell_type": "code",
   "execution_count": 135,
   "id": "19fb1ce6",
   "metadata": {},
   "outputs": [
    {
     "name": "stdout",
     "output_type": "stream",
     "text": [
      "0.9766081871345029\n"
     ]
    }
   ],
   "source": [
    "stc_score = model_cls.score(X_test, y_test)\n",
    "print(stc_score)"
   ]
  },
  {
   "cell_type": "markdown",
   "id": "6b30bb1d",
   "metadata": {},
   "source": [
    "##### Bagging ensemble"
   ]
  },
  {
   "cell_type": "code",
   "execution_count": 123,
   "id": "7c4190a4",
   "metadata": {},
   "outputs": [
    {
     "data": {
      "text/plain": [
       "BaggingClassifier(base_estimator=DecisionTreeClassifier(), random_state=12)"
      ]
     },
     "execution_count": 123,
     "metadata": {},
     "output_type": "execute_result"
    }
   ],
   "source": [
    "model_bagcls = BaggingClassifier(base_estimator=DecisionTreeClassifier(), n_estimators=10, random_state=12)\n",
    "model_bagcls.fit(X_train, y_train)"
   ]
  },
  {
   "cell_type": "code",
   "execution_count": 136,
   "id": "6a318fae",
   "metadata": {},
   "outputs": [
    {
     "name": "stdout",
     "output_type": "stream",
     "text": [
      "0.9005847953216374\n"
     ]
    }
   ],
   "source": [
    "bag_score = model_bagcls.score(X_test, y_test)\n",
    "print(bag_score)"
   ]
  },
  {
   "cell_type": "markdown",
   "id": "d4829262",
   "metadata": {},
   "source": [
    "##### AdaBoost ensemble"
   ]
  },
  {
   "cell_type": "code",
   "execution_count": 125,
   "id": "1543e3f7",
   "metadata": {},
   "outputs": [
    {
     "data": {
      "text/plain": [
       "AdaBoostClassifier(base_estimator=LogisticRegression(), n_estimators=10,\n",
       "                   random_state=12)"
      ]
     },
     "execution_count": 125,
     "metadata": {},
     "output_type": "execute_result"
    }
   ],
   "source": [
    "model_ada_bclf = AdaBoostClassifier(base_estimator=LogisticRegression(), n_estimators=10, random_state=12)\n",
    "model_ada_bclf.fit(X_train, y_train)"
   ]
  },
  {
   "cell_type": "code",
   "execution_count": 137,
   "id": "724ef6aa",
   "metadata": {},
   "outputs": [
    {
     "name": "stdout",
     "output_type": "stream",
     "text": [
      "0.9766081871345029\n"
     ]
    }
   ],
   "source": [
    "adaBoost_score = model_ada_bclf.score(X_test, y_test)\n",
    "print(adaBoost_score)"
   ]
  },
  {
   "cell_type": "markdown",
   "id": "e3fc1ea8",
   "metadata": {},
   "source": [
    "##### XGBoost ensemble"
   ]
  },
  {
   "cell_type": "code",
   "execution_count": 127,
   "id": "18af7bab",
   "metadata": {},
   "outputs": [],
   "source": [
    "model_xgdb_clf = XGBClassifier(booster='gbtree', learning_rate=1, n_estimators=10)"
   ]
  },
  {
   "cell_type": "code",
   "execution_count": 128,
   "id": "e50612ad",
   "metadata": {},
   "outputs": [
    {
     "data": {
      "text/plain": [
       "XGBClassifier(base_score=None, booster='gbtree', callbacks=None,\n",
       "              colsample_bylevel=None, colsample_bynode=None,\n",
       "              colsample_bytree=None, early_stopping_rounds=None,\n",
       "              enable_categorical=False, eval_metric=None, feature_types=None,\n",
       "              gamma=None, gpu_id=None, grow_policy=None, importance_type=None,\n",
       "              interaction_constraints=None, learning_rate=1, max_bin=None,\n",
       "              max_cat_threshold=None, max_cat_to_onehot=None,\n",
       "              max_delta_step=None, max_depth=None, max_leaves=None,\n",
       "              min_child_weight=None, missing=nan, monotone_constraints=None,\n",
       "              n_estimators=10, n_jobs=None, num_parallel_tree=None,\n",
       "              predictor=None, random_state=None, ...)"
      ]
     },
     "execution_count": 128,
     "metadata": {},
     "output_type": "execute_result"
    }
   ],
   "source": [
    "model_xgdb_clf.fit(X_train, y_train)"
   ]
  },
  {
   "cell_type": "code",
   "execution_count": 138,
   "id": "f3f0b49a",
   "metadata": {},
   "outputs": [
    {
     "name": "stdout",
     "output_type": "stream",
     "text": [
      "0.9122807017543859\n"
     ]
    }
   ],
   "source": [
    "xgBoost_score = model_xgdb_clf.score(X_test, y_test)\n",
    "print(xgBoost_score)"
   ]
  },
  {
   "cell_type": "code",
   "execution_count": 169,
   "id": "4364af8a",
   "metadata": {},
   "outputs": [
    {
     "data": {
      "text/html": [
       "<div>\n",
       "<style scoped>\n",
       "    .dataframe tbody tr th:only-of-type {\n",
       "        vertical-align: middle;\n",
       "    }\n",
       "\n",
       "    .dataframe tbody tr th {\n",
       "        vertical-align: top;\n",
       "    }\n",
       "\n",
       "    .dataframe thead th {\n",
       "        text-align: right;\n",
       "    }\n",
       "</style>\n",
       "<table border=\"1\" class=\"dataframe\">\n",
       "  <thead>\n",
       "    <tr style=\"text-align: right;\">\n",
       "      <th></th>\n",
       "      <th>Ensemble</th>\n",
       "      <th>Base_estimators</th>\n",
       "      <th>Final_estimator</th>\n",
       "      <th>Model_score</th>\n",
       "      <th>Notes</th>\n",
       "    </tr>\n",
       "  </thead>\n",
       "  <tbody>\n",
       "    <tr>\n",
       "      <th>0</th>\n",
       "      <td>AdaBoostClassifier</td>\n",
       "      <td>DecisionTreeClassifier</td>\n",
       "      <td>NaN</td>\n",
       "      <td>0.918129</td>\n",
       "      <td>lesson</td>\n",
       "    </tr>\n",
       "    <tr>\n",
       "      <th>1</th>\n",
       "      <td>AdaBoostClassifier</td>\n",
       "      <td>LogisticRegression</td>\n",
       "      <td>NaN</td>\n",
       "      <td>0.976608</td>\n",
       "      <td>homework</td>\n",
       "    </tr>\n",
       "    <tr>\n",
       "      <th>2</th>\n",
       "      <td>BaggingClassifier</td>\n",
       "      <td>LogisticRegression</td>\n",
       "      <td>NaN</td>\n",
       "      <td>0.982456</td>\n",
       "      <td>lesson</td>\n",
       "    </tr>\n",
       "    <tr>\n",
       "      <th>3</th>\n",
       "      <td>BaggingClassifier</td>\n",
       "      <td>DecisionTreeClassifier</td>\n",
       "      <td>NaN</td>\n",
       "      <td>0.900585</td>\n",
       "      <td>homework</td>\n",
       "    </tr>\n",
       "    <tr>\n",
       "      <th>4</th>\n",
       "      <td>StackingClassifier</td>\n",
       "      <td>LogisticRegression, SGDClassifier</td>\n",
       "      <td>DecisionTreeClassifier</td>\n",
       "      <td>0.959064</td>\n",
       "      <td>lesson</td>\n",
       "    </tr>\n",
       "    <tr>\n",
       "      <th>5</th>\n",
       "      <td>StackingClassifier</td>\n",
       "      <td>LogisticRegression, DecisionTreeClassifier</td>\n",
       "      <td>SVC</td>\n",
       "      <td>0.976608</td>\n",
       "      <td>homework</td>\n",
       "    </tr>\n",
       "    <tr>\n",
       "      <th>6</th>\n",
       "      <td>XGBClassifier</td>\n",
       "      <td>gblinear</td>\n",
       "      <td>NaN</td>\n",
       "      <td>0.959064</td>\n",
       "      <td>lesson</td>\n",
       "    </tr>\n",
       "    <tr>\n",
       "      <th>7</th>\n",
       "      <td>XGBClassifier</td>\n",
       "      <td>gbtree</td>\n",
       "      <td>NaN</td>\n",
       "      <td>0.912281</td>\n",
       "      <td>homework</td>\n",
       "    </tr>\n",
       "  </tbody>\n",
       "</table>\n",
       "</div>"
      ],
      "text/plain": [
       "             Ensemble                             Base_estimators  \\\n",
       "0  AdaBoostClassifier                      DecisionTreeClassifier   \n",
       "1  AdaBoostClassifier                          LogisticRegression   \n",
       "2   BaggingClassifier                          LogisticRegression   \n",
       "3   BaggingClassifier                      DecisionTreeClassifier   \n",
       "4  StackingClassifier           LogisticRegression, SGDClassifier   \n",
       "5  StackingClassifier  LogisticRegression, DecisionTreeClassifier   \n",
       "6       XGBClassifier                                    gblinear   \n",
       "7       XGBClassifier                                      gbtree   \n",
       "\n",
       "          Final_estimator  Model_score     Notes  \n",
       "0                     NaN     0.918129    lesson  \n",
       "1                     NaN     0.976608  homework  \n",
       "2                     NaN     0.982456    lesson  \n",
       "3                     NaN     0.900585  homework  \n",
       "4  DecisionTreeClassifier     0.959064    lesson  \n",
       "5                     SVC     0.976608  homework  \n",
       "6                     NaN     0.959064    lesson  \n",
       "7                     NaN     0.912281  homework  "
      ]
     },
     "execution_count": 169,
     "metadata": {},
     "output_type": "execute_result"
    }
   ],
   "source": [
    "ensembles = {\n",
    "    'Ensemble':['StackingClassifier', 'BaggingClassifier', 'AdaBoostClassifier', 'XGBClassifier'],\n",
    "    'Base_estimators': ['LogisticRegression, DecisionTreeClassifier', 'DecisionTreeClassifier', 'LogisticRegression', 'gbtree'],\n",
    "    'Final_estimator': ['SVC', np.nan, np.nan, np.nan,],\n",
    "    'Model_score': [stc_score, bag_score, adaBoost_score, xgBoost_score],\n",
    "    'Notes': 'homework'}\n",
    "\n",
    "hw_results = pd.DataFrame(ensembles)\n",
    "les_results = pd.read_csv('les_results.csv')\n",
    "res = pd.concat([les_results, hw_results])\n",
    "res.sort_values('Ensemble').reset_index(drop=True)\n"
   ]
  }
 ],
 "metadata": {
  "kernelspec": {
   "display_name": "Python 3 (ipykernel)",
   "language": "python",
   "name": "python3"
  },
  "language_info": {
   "codemirror_mode": {
    "name": "ipython",
    "version": 3
   },
   "file_extension": ".py",
   "mimetype": "text/x-python",
   "name": "python",
   "nbconvert_exporter": "python",
   "pygments_lexer": "ipython3",
   "version": "3.9.13"
  }
 },
 "nbformat": 4,
 "nbformat_minor": 5
}
