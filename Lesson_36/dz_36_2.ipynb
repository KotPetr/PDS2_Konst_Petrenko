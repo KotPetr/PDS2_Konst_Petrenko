{
 "cells": [
  {
   "cell_type": "markdown",
   "id": "60989f2f",
   "metadata": {},
   "source": [
    "### Завдання 2\n",
    "Проведіть крос-валідацію для моделі, побудованої на основі датафрейму petrol_consumption з попереднього завдання. Обґрунтуйте обраний метод крос-валідації.\n"
   ]
  },
  {
   "cell_type": "code",
   "execution_count": 57,
   "id": "e8c4a988",
   "metadata": {},
   "outputs": [],
   "source": [
    "import matplotlib.pyplot as plt\n",
    "import numpy as np\n",
    "import pandas as pd\n",
    "\n",
    "import sklearn\n",
    "from sklearn.linear_model import LinearRegression\n",
    "from sklearn.metrics import mean_absolute_error, mean_squared_error\n",
    "from sklearn.model_selection import train_test_split\n",
    "from sklearn.model_selection import KFold, StratifiedKFold, cross_val_score\n",
    "from sklearn import linear_model, tree, ensemble"
   ]
  },
  {
   "cell_type": "markdown",
   "id": "7503403c",
   "metadata": {},
   "source": [
    "#### Імпорт даних, підготовка датасету:"
   ]
  },
  {
   "cell_type": "code",
   "execution_count": 58,
   "id": "6b3025c5",
   "metadata": {},
   "outputs": [
    {
     "data": {
      "text/html": [
       "<div>\n",
       "<style scoped>\n",
       "    .dataframe tbody tr th:only-of-type {\n",
       "        vertical-align: middle;\n",
       "    }\n",
       "\n",
       "    .dataframe tbody tr th {\n",
       "        vertical-align: top;\n",
       "    }\n",
       "\n",
       "    .dataframe thead th {\n",
       "        text-align: right;\n",
       "    }\n",
       "</style>\n",
       "<table border=\"1\" class=\"dataframe\">\n",
       "  <thead>\n",
       "    <tr style=\"text-align: right;\">\n",
       "      <th></th>\n",
       "      <th>Petrol_tax</th>\n",
       "      <th>Average_income</th>\n",
       "      <th>Paved_Highways</th>\n",
       "      <th>Population_Driver_licence(%)</th>\n",
       "      <th>Petrol_Consumption</th>\n",
       "    </tr>\n",
       "  </thead>\n",
       "  <tbody>\n",
       "    <tr>\n",
       "      <th>0</th>\n",
       "      <td>9.0</td>\n",
       "      <td>3571</td>\n",
       "      <td>1976</td>\n",
       "      <td>0.525</td>\n",
       "      <td>541</td>\n",
       "    </tr>\n",
       "    <tr>\n",
       "      <th>1</th>\n",
       "      <td>9.0</td>\n",
       "      <td>4092</td>\n",
       "      <td>1250</td>\n",
       "      <td>0.572</td>\n",
       "      <td>524</td>\n",
       "    </tr>\n",
       "    <tr>\n",
       "      <th>2</th>\n",
       "      <td>9.0</td>\n",
       "      <td>3865</td>\n",
       "      <td>1586</td>\n",
       "      <td>0.580</td>\n",
       "      <td>561</td>\n",
       "    </tr>\n",
       "    <tr>\n",
       "      <th>3</th>\n",
       "      <td>7.5</td>\n",
       "      <td>4870</td>\n",
       "      <td>2351</td>\n",
       "      <td>0.529</td>\n",
       "      <td>414</td>\n",
       "    </tr>\n",
       "    <tr>\n",
       "      <th>4</th>\n",
       "      <td>8.0</td>\n",
       "      <td>4399</td>\n",
       "      <td>431</td>\n",
       "      <td>0.544</td>\n",
       "      <td>410</td>\n",
       "    </tr>\n",
       "  </tbody>\n",
       "</table>\n",
       "</div>"
      ],
      "text/plain": [
       "   Petrol_tax  Average_income  Paved_Highways  Population_Driver_licence(%)  \\\n",
       "0         9.0            3571            1976                         0.525   \n",
       "1         9.0            4092            1250                         0.572   \n",
       "2         9.0            3865            1586                         0.580   \n",
       "3         7.5            4870            2351                         0.529   \n",
       "4         8.0            4399             431                         0.544   \n",
       "\n",
       "   Petrol_Consumption  \n",
       "0                 541  \n",
       "1                 524  \n",
       "2                 561  \n",
       "3                 414  \n",
       "4                 410  "
      ]
     },
     "execution_count": 58,
     "metadata": {},
     "output_type": "execute_result"
    }
   ],
   "source": [
    "petrol_cons = pd.read_csv('petrol_consumption.csv')\n",
    "petrol_cons.dropna(axis=0, subset=['Petrol_Consumption'], inplace=True)\n",
    "\n",
    "y = petrol_cons.Petrol_Consumption          \n",
    "petrol_cons.drop(['Petrol_Consumption'], axis=1, inplace=True)\n",
    "\n",
    "numeric_cols = [cname for cname in petrol_cons.columns if petrol_cons[cname].dtype in ['int64', 'float64']]\n",
    "X = petrol_cons[numeric_cols].copy()\n",
    "\n",
    "pd.concat([X, y], axis=1).head()"
   ]
  },
  {
   "cell_type": "markdown",
   "id": "edaa3772",
   "metadata": {},
   "source": [
    "#### Розділення даних для К-кратної крос-валідації"
   ]
  },
  {
   "cell_type": "code",
   "execution_count": 59,
   "id": "6b410512",
   "metadata": {},
   "outputs": [
    {
     "name": "stdout",
     "output_type": "stream",
     "text": [
      "***************************************************\n",
      "Iterations Training Set   Testing Set\n",
      "***************************************************\n",
      "Train 1   :   38          Test: 10\n",
      "Train 2   :   38          Test: 10\n",
      "Train 3   :   38          Test: 10\n",
      "Train 4   :   39          Test: 9\n",
      "Train 5   :   39          Test: 9\n"
     ]
    }
   ],
   "source": [
    "kf =KFold(n_splits=5, shuffle=True, random_state=5)\n",
    "\n",
    "print('***************************************************')\n",
    "print('{}{:^15} {}'.format('Iterations','Training Set', 'Testing Set'))\n",
    "print('***************************************************')\n",
    "count = 1\n",
    "for train_index, test_index in kf.split(X, y):\n",
    "    print(f'Train {count}   :  ', len(train_index), '         Test:', len(test_index))\n",
    "    count += 1"
   ]
  },
  {
   "cell_type": "markdown",
   "id": "8a5d296d",
   "metadata": {},
   "source": [
    "#### Древовидна регресія"
   ]
  },
  {
   "cell_type": "code",
   "execution_count": 60,
   "id": "beef1ecc",
   "metadata": {},
   "outputs": [
    {
     "name": "stdout",
     "output_type": "stream",
     "text": [
      "Scores for each fold: [-15807.3         -7166.          -9586.2         -6523.77777778\n",
      "  -4975.88888889]\n",
      "rmse = 93.87136588616005\n"
     ]
    }
   ],
   "source": [
    "score = cross_val_score(tree.DecisionTreeRegressor(random_state= 5), X, y, cv=kf, scoring=\"neg_mean_squared_error\")\n",
    "print(f'Scores for each fold: {score}')\n",
    "print(f'rmse = {(score.mean()*-1)**0.5}')"
   ]
  },
  {
   "cell_type": "code",
   "execution_count": 61,
   "id": "5871c4ca",
   "metadata": {},
   "outputs": [
    {
     "name": "stdout",
     "output_type": "stream",
     "text": [
      "For max depth: 1\n",
      "rmse = 99.80850120520277\n",
      "For max depth: 2\n",
      "rmse = 91.15402146288433\n",
      "For max depth: 3\n",
      "rmse = 97.04707507281668\n",
      "For max depth: 4\n",
      "rmse = 90.53644306670793\n",
      "For max depth: 5\n",
      "rmse = 90.37699265635575\n",
      "For max depth: 6\n",
      "rmse = 93.17066848192682\n",
      "For max depth: 7\n",
      "rmse = 93.91929695945358\n",
      "For max depth: 8\n",
      "rmse = 94.68341694533656\n",
      "For max depth: 9\n",
      "rmse = 87.6828122014546\n",
      "For max depth: 10\n",
      "rmse = 93.87136588616005\n",
      "\n",
      "Мінімальне значення rmse = 87.68 \n",
      "Глибина дерева рішень: 9\n"
     ]
    }
   ],
   "source": [
    "max_depth = [1,2,3,4,5,6,7,8,9,10]\n",
    "\n",
    "rmse_dict ={}\n",
    "for val in max_depth:\n",
    "    score = cross_val_score(tree.DecisionTreeRegressor(max_depth= val, random_state= 5), X, y, cv= kf, scoring=\"neg_mean_squared_error\")\n",
    "    print(f'For max depth: {val}')\n",
    "    rmse = (score.mean()*-1)**0.5\n",
    "    print(f'rmse = {rmse}')\n",
    "    rmse_dict[rmse] = val\n",
    "\n",
    "print(f'\\nМінімальне значення rmse = {min(rmse_dict):.2f} \\nГлибина дерева рішень: {rmse_dict[min(rmse_dict)]}')    \n",
    "    "
   ]
  },
  {
   "cell_type": "markdown",
   "id": "a6b61cda",
   "metadata": {},
   "source": [
    "##### Шляхом перебору гіперпараметрів моделі вдалось незначно зменшити квадратичну похибку до 87.68.  Цей показник досягається при максимальній глибині дерева 9.\n"
   ]
  },
  {
   "cell_type": "markdown",
   "id": "d0718425",
   "metadata": {},
   "source": [
    "#### Лінійна регресія"
   ]
  },
  {
   "cell_type": "code",
   "execution_count": 62,
   "id": "aefd6f08",
   "metadata": {},
   "outputs": [
    {
     "name": "stdout",
     "output_type": "stream",
     "text": [
      "Scores for each fold: [-3924.50936389 -3305.47069127 -3846.54832979 -2670.99054785\n",
      " -9244.86281601]\n",
      "rmse = 67.81206640240819\n"
     ]
    }
   ],
   "source": [
    "score = cross_val_score(linear_model.LinearRegression(), X, y, cv= kf, scoring=\"neg_mean_squared_error\")\n",
    "print(f'Scores for each fold: {score}')\n",
    "print(f'rmse = {(score.mean()*-1)**0.5}')"
   ]
  },
  {
   "cell_type": "markdown",
   "id": "1e80c6fb",
   "metadata": {},
   "source": [
    "#### Регресія на основі випадкового лісу"
   ]
  },
  {
   "cell_type": "code",
   "execution_count": 63,
   "id": "4f1f5531",
   "metadata": {},
   "outputs": [
    {
     "name": "stdout",
     "output_type": "stream",
     "text": [
      "Scores for each fold are: [-10038.32083     -2224.62713     -5854.50417     -2087.64796667\n",
      "  -9600.35761111]\n",
      "rmse = 77.20810541358696\n"
     ]
    }
   ],
   "source": [
    "score = cross_val_score(ensemble.RandomForestRegressor(random_state= 5), X, y, cv= kf, scoring=\"neg_mean_squared_error\")\n",
    "print(f'Scores for each fold are: {score}')\n",
    "print(f'rmse = {(score.mean()*-1)**0.5}')"
   ]
  },
  {
   "cell_type": "code",
   "execution_count": 64,
   "id": "e06023cf",
   "metadata": {},
   "outputs": [
    {
     "name": "stdout",
     "output_type": "stream",
     "text": [
      "For estimators: 50\n",
      "rmse = 78.56246707486271\n",
      "For estimators: 100\n",
      "rmse = 77.20810541358696\n",
      "For estimators: 150\n",
      "rmse = 76.07790640301997\n",
      "For estimators: 200\n",
      "rmse = 76.23762888094623\n",
      "For estimators: 250\n",
      "rmse = 75.76281561892131\n",
      "For estimators: 300\n",
      "rmse = 75.18478572568578\n",
      "For estimators: 350\n",
      "rmse = 74.82439619447979\n",
      "For estimators: 400\n",
      "rmse = 75.01420964325878\n",
      "\n",
      "Мінімальне значення rmse = 74.82 \n",
      "Оцінювач: 350\n"
     ]
    }
   ],
   "source": [
    "estimators = [50, 100, 150, 200, 250, 300, 350, 400]\n",
    "\n",
    "rmse_dc ={}\n",
    "for count in estimators:\n",
    "    score = cross_val_score(ensemble.RandomForestRegressor(n_estimators= count, random_state= 5), X, y, cv= kf, scoring=\"neg_mean_squared_error\")\n",
    "    print(f'For estimators: {count}')\n",
    "    rmse = (score.mean()*-1)**0.5\n",
    "    print(f'rmse = {rmse}')\n",
    "    rmse_dc[rmse] = count\n",
    "\n",
    "print(f'\\nМінімальне значення rmse = {min(rmse_dc):.2f} \\nОцінювач: {rmse_dc[min(rmse_dc)]}')   "
   ]
  },
  {
   "cell_type": "markdown",
   "id": "33e2a778",
   "metadata": {},
   "source": [
    "##### Шляхом перебору гіперпараметрів моделі вдалось незначно зменшити квадратичну похибку до 74.82. Цей результат досягається при значенні показника оцінки 350."
   ]
  },
  {
   "cell_type": "markdown",
   "id": "45ced090",
   "metadata": {},
   "source": [
    "#### Моделі випадкових лісів і древовидної регресії вдалося трохи покращити за допомогою тренування. Але все одно, за кінцевими підсумками трьох збудованих моделей найкращі результати показує модель лінійної регресії. Принаймні, стандартна похибка при використанні цієї моделі - мінімальна.\n",
    "#### Для тренування і оцінювання моделей обрано К-кратну валідацію, оскільки це найпоширеніший метод тренування моделей. Застотсувати стратифіковану крос-валідацію немає можливості, оскільки предиктор не розподілений на певні класи."
   ]
  }
 ],
 "metadata": {
  "kernelspec": {
   "display_name": "Python 3 (ipykernel)",
   "language": "python",
   "name": "python3"
  },
  "language_info": {
   "codemirror_mode": {
    "name": "ipython",
    "version": 3
   },
   "file_extension": ".py",
   "mimetype": "text/x-python",
   "name": "python",
   "nbconvert_exporter": "python",
   "pygments_lexer": "ipython3",
   "version": "3.9.13"
  }
 },
 "nbformat": 4,
 "nbformat_minor": 5
}
