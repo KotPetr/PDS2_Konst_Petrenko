{
 "cells": [
  {
   "cell_type": "markdown",
   "id": "a5b6f777",
   "metadata": {},
   "source": [
    "### Завдання 1\n",
    "Проведіть крос-валідацію для моделі, побудованої на основі датафрейму student_scores з попереднього завдання. Обґрунтуйте обраний метод крос-валідації."
   ]
  },
  {
   "cell_type": "code",
   "execution_count": 110,
   "id": "72abe535",
   "metadata": {},
   "outputs": [],
   "source": [
    "import matplotlib.pyplot as plt\n",
    "import numpy as np\n",
    "import pandas as pd\n",
    "\n",
    "import sklearn\n",
    "from sklearn.linear_model import LinearRegression\n",
    "from sklearn.metrics import mean_absolute_error, mean_squared_error\n",
    "from sklearn.model_selection import train_test_split\n",
    "from sklearn.model_selection import KFold, StratifiedKFold, cross_val_score\n",
    "from sklearn import linear_model, tree, ensemble"
   ]
  },
  {
   "cell_type": "code",
   "execution_count": 111,
   "id": "6e51c184",
   "metadata": {},
   "outputs": [
    {
     "data": {
      "text/html": [
       "<div>\n",
       "<style scoped>\n",
       "    .dataframe tbody tr th:only-of-type {\n",
       "        vertical-align: middle;\n",
       "    }\n",
       "\n",
       "    .dataframe tbody tr th {\n",
       "        vertical-align: top;\n",
       "    }\n",
       "\n",
       "    .dataframe thead th {\n",
       "        text-align: right;\n",
       "    }\n",
       "</style>\n",
       "<table border=\"1\" class=\"dataframe\">\n",
       "  <thead>\n",
       "    <tr style=\"text-align: right;\">\n",
       "      <th></th>\n",
       "      <th>Hours</th>\n",
       "      <th>Scores</th>\n",
       "    </tr>\n",
       "  </thead>\n",
       "  <tbody>\n",
       "    <tr>\n",
       "      <th>0</th>\n",
       "      <td>2.5</td>\n",
       "      <td>21</td>\n",
       "    </tr>\n",
       "    <tr>\n",
       "      <th>1</th>\n",
       "      <td>5.1</td>\n",
       "      <td>47</td>\n",
       "    </tr>\n",
       "    <tr>\n",
       "      <th>2</th>\n",
       "      <td>3.2</td>\n",
       "      <td>27</td>\n",
       "    </tr>\n",
       "    <tr>\n",
       "      <th>3</th>\n",
       "      <td>8.5</td>\n",
       "      <td>75</td>\n",
       "    </tr>\n",
       "    <tr>\n",
       "      <th>4</th>\n",
       "      <td>3.5</td>\n",
       "      <td>30</td>\n",
       "    </tr>\n",
       "  </tbody>\n",
       "</table>\n",
       "</div>"
      ],
      "text/plain": [
       "   Hours  Scores\n",
       "0    2.5      21\n",
       "1    5.1      47\n",
       "2    3.2      27\n",
       "3    8.5      75\n",
       "4    3.5      30"
      ]
     },
     "execution_count": 111,
     "metadata": {},
     "output_type": "execute_result"
    }
   ],
   "source": [
    "stud = pd.read_csv('student_scores.csv')\n",
    "stud.head()"
   ]
  },
  {
   "cell_type": "code",
   "execution_count": 112,
   "id": "303a2f0d",
   "metadata": {},
   "outputs": [],
   "source": [
    "X = stud[['Hours']]\n",
    "y = stud['Scores']"
   ]
  },
  {
   "cell_type": "code",
   "execution_count": 113,
   "id": "afa3f4e5",
   "metadata": {},
   "outputs": [
    {
     "data": {
      "image/png": "[encoded data removed]",
      "text/plain": [
       "<Figure size 800x600 with 1 Axes>"
      ]
     },
     "metadata": {},
     "output_type": "display_data"
    }
   ],
   "source": [
    "plt.scatter(X, y)\n",
    "plt.xlabel('Hours')\n",
    "plt.ylabel('Scores')\n",
    "plt.show()"
   ]
  },
  {
   "cell_type": "code",
   "execution_count": 114,
   "id": "15741afc",
   "metadata": {},
   "outputs": [
    {
     "name": "stdout",
     "output_type": "stream",
     "text": [
      "********************************************************************************************\n",
      "Iterations                    Training Set(indexes)                      Testing Set(indexes)\n",
      "********************************************************************************************\n",
      "Train 1 : [ 0  1  3  4  5  6  7  8  9 11 12 13 14 15 16 17 20 22 23 24] Test: [ 2 10 18 19 21]\n",
      "Train 2 : [ 0  1  2  3  4  6  7  8  9 10 11 13 14 15 16 18 19 20 21 23] Test: [ 5 12 17 22 24]\n",
      "Train 3 : [ 2  3  4  5  6  7  8  9 10 12 14 15 16 17 18 19 21 22 23 24] Test: [ 0  1 11 13 20]\n",
      "Train 4 : [ 0  1  2  3  5  6 10 11 12 13 14 15 16 17 18 19 20 21 22 24] Test: [ 4  7  8  9 23]\n",
      "Train 5 : [ 0  1  2  4  5  7  8  9 10 11 12 13 17 18 19 20 21 22 23 24] Test: [ 3  6 14 15 16]\n"
     ]
    }
   ],
   "source": [
    "kf =KFold(n_splits=5, shuffle=True, random_state=5)\n",
    "\n",
    "print('********************************************************************************************')\n",
    "print('{}{:^62} {}'.format('Iterations','Training Set(indexes)', 'Testing Set(indexes)'))\n",
    "print('********************************************************************************************')\n",
    "count = 1\n",
    "for train_index, test_index in kf.split(X):\n",
    "    print(f'Train {count} :', train_index, 'Test:', test_index)\n",
    "    count += 1\n"
   ]
  },
  {
   "cell_type": "markdown",
   "id": "ea400a80",
   "metadata": {},
   "source": [
    "#### Linear Regression"
   ]
  },
  {
   "cell_type": "code",
   "execution_count": 115,
   "id": "f7d41548",
   "metadata": {},
   "outputs": [
    {
     "name": "stdout",
     "output_type": "stream",
     "text": [
      "Scores for each fold: [-37.56345258 -24.65455431 -24.21050631 -25.58192204 -59.00316609]\n",
      "rmse = 5.848309180092123\n"
     ]
    }
   ],
   "source": [
    "score = cross_val_score(linear_model.LinearRegression(), X, y, cv= kf, scoring=\"neg_mean_squared_error\")\n",
    "print(f'Scores for each fold: {score}')\n",
    "print(f'rmse = {(score.mean()*-1)**0.5}')\n"
   ]
  },
  {
   "cell_type": "markdown",
   "id": "fe0815bb",
   "metadata": {},
   "source": [
    "#### Decision Tree Regressor"
   ]
  },
  {
   "cell_type": "code",
   "execution_count": 116,
   "id": "6df41024",
   "metadata": {},
   "outputs": [
    {
     "name": "stdout",
     "output_type": "stream",
     "text": [
      "Scores for each fold: [-117.8   -41.25  -81.    -84.6   -74.2 ]\n",
      "rmse = 8.931405264570632\n"
     ]
    }
   ],
   "source": [
    "score = cross_val_score(tree.DecisionTreeRegressor(random_state= 5), X, y, cv=kf, scoring=\"neg_mean_squared_error\")\n",
    "print(f'Scores for each fold: {score}')\n",
    "print(f'rmse = {(score.mean()*-1)**0.5}')"
   ]
  },
  {
   "cell_type": "markdown",
   "id": "99c6d9e5",
   "metadata": {},
   "source": [
    "#### Random Forest Regressor"
   ]
  },
  {
   "cell_type": "code",
   "execution_count": 117,
   "id": "a9585c34",
   "metadata": {},
   "outputs": [
    {
     "name": "stdout",
     "output_type": "stream",
     "text": [
      "Scores for each fold are: [-77.70205014 -23.51407295 -62.97884    -25.71562    -63.43560014]\n",
      "rmse = 7.1182326911639775\n"
     ]
    }
   ],
   "source": [
    "score = cross_val_score(ensemble.RandomForestRegressor(random_state= 5), X, y, cv= kf, scoring=\"neg_mean_squared_error\")\n",
    "print(f'Scores for each fold are: {score}')\n",
    "print(f'rmse = {(score.mean()*-1)**0.5}')"
   ]
  },
  {
   "cell_type": "markdown",
   "id": "05984262",
   "metadata": {},
   "source": [
    "#### Для тренування і оцінювання моделей обрано К-кратну валідацію, оскільки це найпоширеніший метод тренування моделей, а початковий датасет досить простий і невеликий.\n",
    "#### За підсумками трьох збудованих моделей найкращі результати показує модель лінійної регресії."
   ]
  }
 ],
 "metadata": {
  "kernelspec": {
   "display_name": "Python 3 (ipykernel)",
   "language": "python",
   "name": "python3"
  },
  "language_info": {
   "codemirror_mode": {
    "name": "ipython",
    "version": 3
   },
   "file_extension": ".py",
   "mimetype": "text/x-python",
   "name": "python",
   "nbconvert_exporter": "python",
   "pygments_lexer": "ipython3",
   "version": "3.9.13"
  }
 },
 "nbformat": 4,
 "nbformat_minor": 5
}
