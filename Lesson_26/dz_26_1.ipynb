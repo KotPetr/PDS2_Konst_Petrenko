{
 "cells": [
  {
   "cell_type": "markdown",
   "id": "433bc8cf",
   "metadata": {},
   "source": [
    "### Task 1"
   ]
  },
  {
   "cell_type": "markdown",
   "id": "9fc7f565",
   "metadata": {},
   "source": [
    "Ймовірність того, що телевізор витримає гарантійний термін роботи, дорівнює 0,9 для всіх телевізорів, які обслуговує гарантійна майстерня. Оцінити ймовірність того, що число телевізорів, які витримають гарантійний термін роботи, буде в межах [85;95]."
   ]
  },
  {
   "cell_type": "markdown",
   "id": "088f19a8",
   "metadata": {},
   "source": [
    "Якщо загальна кількість телевізорів 100 шт., то математичне сподівання буде дорівнювати М(Х) = 100 х 0,9 = **90**  \n",
    "Дисперсія буде дорівнювати D(X) = 100^2 x 0,9 - 90^2 = **900**  \n",
    "e = 95 - 90 = 90 - 95 = **5**"
   ]
  },
  {
   "cell_type": "code",
   "execution_count": 3,
   "id": "cfd013c6",
   "metadata": {},
   "outputs": [
    {
     "name": "stdout",
     "output_type": "stream",
     "text": [
      "Математичне очікування появи бракованої деталі Х дорівнює: 90.0. Дисперсія: 900.0. Стандарте відхилення: 30.0\n",
      "Математичне очікування появи стандартної деталі Y дорівнює: 10.0. Дисперсія: 900.0. Стандарте відхилення: 30.0\n"
     ]
    }
   ],
   "source": [
    "import numpy as np\n",
    "\n",
    "X = np.array([0, 100])\n",
    "Y = np.array([0, 100])\n",
    "PXY= np.array([[0, 0.9],\n",
    "               [0.1, 0]])\n",
    "\n",
    "PY = [round(sum(PXY[i]), 3) for i in range(len(PXY))]\n",
    "PX = [round(sum(PXY[:, i]), 3) for i in range(len(PXY[0]))]   \n",
    "\n",
    "MX = sum(X*PX)              # Математичне очікування\n",
    "DX = sum(X**2*PX) - MX**2   # Дисперсія\n",
    "sX = DX**0.5                # Стандартне відхилення\n",
    "print(f'Математичне очікування появи бракованої деталі Х дорівнює: {round(MX,2)}. Дисперсія: {round(DX,4)}. '+ \n",
    "      f'Стандарте відхилення: {round(sX, 4)}')\n",
    "\n",
    "MY = sum(Y*PY)              # Математичне очікування\n",
    "DY = sum(Y**2*PY) - MY**2   # Дисперсія\n",
    "sY = DY**0.5                # Стандартне відхилення\n",
    "print(f'Математичне очікування появи стандартної деталі Y дорівнює: {round(MY,2)}. Дисперсія: {round(DY,4)}. '+ \n",
    "      f'Стандарте відхилення: {round(sY, 4)}')\n"
   ]
  }
 ],
 "metadata": {
  "kernelspec": {
   "display_name": "Python 3 (ipykernel)",
   "language": "python",
   "name": "python3"
  },
  "language_info": {
   "codemirror_mode": {
    "name": "ipython",
    "version": 3
   },
   "file_extension": ".py",
   "mimetype": "text/x-python",
   "name": "python",
   "nbconvert_exporter": "python",
   "pygments_lexer": "ipython3",
   "version": "3.9.13"
  }
 },
 "nbformat": 4,
 "nbformat_minor": 5
}
