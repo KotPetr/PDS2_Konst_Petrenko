{
 "cells": [
  {
   "cell_type": "markdown",
   "id": "60ba0a68",
   "metadata": {},
   "source": [
    "### Task 2"
   ]
  },
  {
   "cell_type": "code",
   "execution_count": 25,
   "id": "cd684fd2",
   "metadata": {},
   "outputs": [],
   "source": [
    "A = [[4, 2, 0],\n",
    "     [1, 3, 2],\n",
    "     [-1, 3, 10]]\n",
    "\n",
    "A1 = [A[1],A[0],A[2]]\n",
    "\n",
    "for i in range(len(A1)):\n",
    "    for j in range(len(A1[0])):\n",
    "        if i == 1:\n",
    "            A1[i][j] = A1[i][j] + A1[i-1][j]*(-4)\n",
    "            A1[i][j] = int(A1[i][j]/-2)            \n",
    "        if i == 2:\n",
    "            A1[i][j] = A1[i][j]+A1[i-2][j]\n",
    "            A1[i][j] = int(A1[i][j]/6)\n",
    "\n",
    "A1 = [A1[0], A1[2], A1[1]] \n",
    "\n",
    "for i in range(len(A1)):\n",
    "    for j in range(len(A1[0])):\n",
    "        if i == 2:\n",
    "            A1[i][j] = A1[i][j] + A1[i-1][j]*(-5)\n"
   ]
  },
  {
   "cell_type": "markdown",
   "id": "aa1c5a90",
   "metadata": {},
   "source": [
    "##### Матриця А приведена до верхнього трикутного вигляду:"
   ]
  },
  {
   "cell_type": "code",
   "execution_count": 26,
   "id": "0ed60d57",
   "metadata": {},
   "outputs": [
    {
     "name": "stdout",
     "output_type": "stream",
     "text": [
      "     [1, 3, 2]\n",
      "A1 = [0, 1, 2]\n",
      "     [0, 0, -6]\n"
     ]
    }
   ],
   "source": [
    "for i in range(len(A)):    \n",
    "    if i == 1:\n",
    "        print(f'A1 = {A1[i]}')\n",
    "    else:\n",
    "        print(f'     {A1[i]}')"
   ]
  }
 ],
 "metadata": {
  "kernelspec": {
   "display_name": "Python 3 (ipykernel)",
   "language": "python",
   "name": "python3"
  },
  "language_info": {
   "codemirror_mode": {
    "name": "ipython",
    "version": 3
   },
   "file_extension": ".py",
   "mimetype": "text/x-python",
   "name": "python",
   "nbconvert_exporter": "python",
   "pygments_lexer": "ipython3",
   "version": "3.10.7"
  }
 },
 "nbformat": 4,
 "nbformat_minor": 5
}
